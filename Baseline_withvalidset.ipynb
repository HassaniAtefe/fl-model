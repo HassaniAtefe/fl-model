{
  "cells": [
    {
      "cell_type": "markdown",
      "metadata": {
        "id": "5flL4-j_plA2"
      },
      "source": [
        "# Multi-task Sequential Federated Learning on MedMNIST"
      ]
    },
    {
      "cell_type": "code",
      "execution_count": null,
      "metadata": {
        "colab": {
          "base_uri": "https://localhost:8080/"
        },
        "id": "gJEvyIR-GPwo",
        "outputId": "3090e163-35b5-4b3d-b70c-9d8fdaacf627"
      },
      "outputs": [],
      "source": [
        "# ! pip install medmnist"
      ]
    },
    {
      "cell_type": "code",
      "execution_count": 1,
      "metadata": {},
      "outputs": [],
      "source": [
        "# import EarlyStopping\n",
        "from utils.pytorchtools import EarlyStopping"
      ]
    },
    {
      "cell_type": "code",
      "execution_count": 2,
      "metadata": {
        "id": "CgS_R2FEF4wB"
      },
      "outputs": [],
      "source": [
        "# Import libraries\n",
        "import medmnist\n",
        "from medmnist import INFO\n",
        "\n",
        "from tqdm import tqdm\n",
        "import time\n",
        "import numpy as np\n",
        "from statistics import mean\n",
        "import PIL\n",
        "from itertools import chain\n",
        "from sklearn.metrics import confusion_matrix, accuracy_score, precision_recall_fscore_support\n",
        "\n",
        "import torch\n",
        "import torch.nn as nn\n",
        "import torchvision.transforms as transforms\n",
        "\n",
        "# Models\n",
        "from models.CNN import CNN5\n",
        "from models.VGG11 import VGG11\n",
        "from models.ResNet18 import ResNet_18, Block\n",
        "\n",
        "# Train and Test/validation\n",
        "from Training import Train\n",
        "from Evaluation import Evaluator\n",
        "\n",
        "from torch.utils.data import TensorDataset\n",
        "from torch.utils.data import DataLoader"
      ]
    },
    {
      "cell_type": "code",
      "execution_count": 3,
      "metadata": {},
      "outputs": [
        {
          "name": "stdout",
          "output_type": "stream",
          "text": [
            "Using device: cpu\n",
            "\n"
          ]
        }
      ],
      "source": [
        "# setting device on GPU if available, else CPU\n",
        "device = torch.device('cuda' if torch.cuda.is_available() else 'cpu')\n",
        "print('Using device:', device)\n",
        "print()"
      ]
    },
    {
      "cell_type": "markdown",
      "metadata": {
        "id": "EhBdxPIOjpDr"
      },
      "source": [
        "## Preparing Dataset including Server and Clients"
      ]
    },
    {
      "cell_type": "code",
      "execution_count": 4,
      "metadata": {
        "colab": {
          "base_uri": "https://localhost:8080/"
        },
        "id": "oY8QVJTkGN6M",
        "outputId": "e391a46e-7154-49f1-84b7-73518b26e5db"
      },
      "outputs": [
        {
          "name": "stdout",
          "output_type": "stream",
          "text": [
            "MedMNIST v2.2.3 @ https://github.com/MedMNIST/MedMNIST/\n"
          ]
        }
      ],
      "source": [
        "print(f\"MedMNIST v{medmnist.__version__} @ {medmnist.HOMEPAGE}\")"
      ]
    },
    {
      "cell_type": "code",
      "execution_count": 5,
      "metadata": {
        "colab": {
          "base_uri": "https://localhost:8080/"
        },
        "id": "e5CKwJ3_HrFe",
        "outputId": "383449b8-965e-47de-fdfe-3e0a104e695d"
      },
      "outputs": [
        {
          "data": {
            "text/plain": [
              "{'pathmnist': {'python_class': 'PathMNIST',\n",
              "  'description': 'The PathMNIST is based on a prior study for predicting survival from colorectal cancer histology slides, providing a dataset (NCT-CRC-HE-100K) of 100,000 non-overlapping image patches from hematoxylin & eosin stained histological images, and a test dataset (CRC-VAL-HE-7K) of 7,180 image patches from a different clinical center. The dataset is comprised of 9 types of tissues, resulting in a multi-class classification task. We resize the source images of 3×224×224 into 3×28×28, and split NCT-CRC-HE-100K into training and validation set with a ratio of 9:1. The CRC-VAL-HE-7K is treated as the test set.',\n",
              "  'url': 'https://zenodo.org/record/6496656/files/pathmnist.npz?download=1',\n",
              "  'MD5': 'a8b06965200029087d5bd730944a56c1',\n",
              "  'task': 'multi-class',\n",
              "  'label': {'0': 'adipose',\n",
              "   '1': 'background',\n",
              "   '2': 'debris',\n",
              "   '3': 'lymphocytes',\n",
              "   '4': 'mucus',\n",
              "   '5': 'smooth muscle',\n",
              "   '6': 'normal colon mucosa',\n",
              "   '7': 'cancer-associated stroma',\n",
              "   '8': 'colorectal adenocarcinoma epithelium'},\n",
              "  'n_channels': 3,\n",
              "  'n_samples': {'train': 89996, 'val': 10004, 'test': 7180},\n",
              "  'license': 'CC BY 4.0'},\n",
              " 'chestmnist': {'python_class': 'ChestMNIST',\n",
              "  'description': 'The ChestMNIST is based on the NIH-ChestXray14 dataset, a dataset comprising 112,120 frontal-view X-Ray images of 30,805 unique patients with the text-mined 14 disease labels, which could be formulized as a multi-label binary-class classification task. We use the official data split, and resize the source images of 1×1024×1024 into 1×28×28.',\n",
              "  'url': 'https://zenodo.org/record/6496656/files/chestmnist.npz?download=1',\n",
              "  'MD5': '02c8a6516a18b556561a56cbdd36c4a8',\n",
              "  'task': 'multi-label, binary-class',\n",
              "  'label': {'0': 'atelectasis',\n",
              "   '1': 'cardiomegaly',\n",
              "   '2': 'effusion',\n",
              "   '3': 'infiltration',\n",
              "   '4': 'mass',\n",
              "   '5': 'nodule',\n",
              "   '6': 'pneumonia',\n",
              "   '7': 'pneumothorax',\n",
              "   '8': 'consolidation',\n",
              "   '9': 'edema',\n",
              "   '10': 'emphysema',\n",
              "   '11': 'fibrosis',\n",
              "   '12': 'pleural',\n",
              "   '13': 'hernia'},\n",
              "  'n_channels': 1,\n",
              "  'n_samples': {'train': 78468, 'val': 11219, 'test': 22433},\n",
              "  'license': 'CC BY 4.0'},\n",
              " 'dermamnist': {'python_class': 'DermaMNIST',\n",
              "  'description': 'The DermaMNIST is based on the HAM10000, a large collection of multi-source dermatoscopic images of common pigmented skin lesions. The dataset consists of 10,015 dermatoscopic images categorized as 7 different diseases, formulized as a multi-class classification task. We split the images into training, validation and test set with a ratio of 7:1:2. The source images of 3×600×450 are resized into 3×28×28.',\n",
              "  'url': 'https://zenodo.org/record/6496656/files/dermamnist.npz?download=1',\n",
              "  'MD5': '0744692d530f8e62ec473284d019b0c7',\n",
              "  'task': 'multi-class',\n",
              "  'label': {'0': 'actinic keratoses and intraepithelial carcinoma',\n",
              "   '1': 'basal cell carcinoma',\n",
              "   '2': 'benign keratosis-like lesions',\n",
              "   '3': 'dermatofibroma',\n",
              "   '4': 'melanoma',\n",
              "   '5': 'melanocytic nevi',\n",
              "   '6': 'vascular lesions'},\n",
              "  'n_channels': 3,\n",
              "  'n_samples': {'train': 7007, 'val': 1003, 'test': 2005},\n",
              "  'license': 'CC BY-NC 4.0'},\n",
              " 'octmnist': {'python_class': 'OCTMNIST',\n",
              "  'description': 'The OCTMNIST is based on a prior dataset of 109,309 valid optical coherence tomography (OCT) images for retinal diseases. The dataset is comprised of 4 diagnosis categories, leading to a multi-class classification task. We split the source training set with a ratio of 9:1 into training and validation set, and use its source validation set as the test set. The source images are gray-scale, and their sizes are (384−1,536)×(277−512). We center-crop the images and resize them into 1×28×28.',\n",
              "  'url': 'https://zenodo.org/record/6496656/files/octmnist.npz?download=1',\n",
              "  'MD5': 'c68d92d5b585d8d81f7112f81e2d0842',\n",
              "  'task': 'multi-class',\n",
              "  'label': {'0': 'choroidal neovascularization',\n",
              "   '1': 'diabetic macular edema',\n",
              "   '2': 'drusen',\n",
              "   '3': 'normal'},\n",
              "  'n_channels': 1,\n",
              "  'n_samples': {'train': 97477, 'val': 10832, 'test': 1000},\n",
              "  'license': 'CC BY 4.0'},\n",
              " 'pneumoniamnist': {'python_class': 'PneumoniaMNIST',\n",
              "  'description': 'The PneumoniaMNIST is based on a prior dataset of 5,856 pediatric chest X-Ray images. The task is binary-class classification of pneumonia against normal. We split the source training set with a ratio of 9:1 into training and validation set and use its source validation set as the test set. The source images are gray-scale, and their sizes are (384−2,916)×(127−2,713). We center-crop the images and resize them into 1×28×28.',\n",
              "  'url': 'https://zenodo.org/record/6496656/files/pneumoniamnist.npz?download=1',\n",
              "  'MD5': '28209eda62fecd6e6a2d98b1501bb15f',\n",
              "  'task': 'binary-class',\n",
              "  'label': {'0': 'normal', '1': 'pneumonia'},\n",
              "  'n_channels': 1,\n",
              "  'n_samples': {'train': 4708, 'val': 524, 'test': 624},\n",
              "  'license': 'CC BY 4.0'},\n",
              " 'retinamnist': {'python_class': 'RetinaMNIST',\n",
              "  'description': 'The RetinaMNIST is based on the DeepDRiD challenge, which provides a dataset of 1,600 retina fundus images. The task is ordinal regression for 5-level grading of diabetic retinopathy severity. We split the source training set with a ratio of 9:1 into training and validation set, and use the source validation set as the test set. The source images of 3×1,736×1,824 are center-cropped and resized into 3×28×28.',\n",
              "  'url': 'https://zenodo.org/record/6496656/files/retinamnist.npz?download=1',\n",
              "  'MD5': 'bd4c0672f1bba3e3a89f0e4e876791e4',\n",
              "  'task': 'ordinal-regression',\n",
              "  'label': {'0': '0', '1': '1', '2': '2', '3': '3', '4': '4'},\n",
              "  'n_channels': 3,\n",
              "  'n_samples': {'train': 1080, 'val': 120, 'test': 400},\n",
              "  'license': 'CC BY 4.0'},\n",
              " 'breastmnist': {'python_class': 'BreastMNIST',\n",
              "  'description': 'The BreastMNIST is based on a dataset of 780 breast ultrasound images. It is categorized into 3 classes: normal, benign, and malignant. As we use low-resolution images, we simplify the task into binary classification by combining normal and benign as positive and classifying them against malignant as negative. We split the source dataset with a ratio of 7:1:2 into training, validation and test set. The source images of 1×500×500 are resized into 1×28×28.',\n",
              "  'url': 'https://zenodo.org/record/6496656/files/breastmnist.npz?download=1',\n",
              "  'MD5': '750601b1f35ba3300ea97c75c52ff8f6',\n",
              "  'task': 'binary-class',\n",
              "  'label': {'0': 'malignant', '1': 'normal, benign'},\n",
              "  'n_channels': 1,\n",
              "  'n_samples': {'train': 546, 'val': 78, 'test': 156},\n",
              "  'license': 'CC BY 4.0'},\n",
              " 'bloodmnist': {'python_class': 'BloodMNIST',\n",
              "  'description': 'The BloodMNIST is based on a dataset of individual normal cells, captured from individuals without infection, hematologic or oncologic disease and free of any pharmacologic treatment at the moment of blood collection. It contains a total of 17,092 images and is organized into 8 classes. We split the source dataset with a ratio of 7:1:2 into training, validation and test set. The source images with resolution 3×360×363 pixels are center-cropped into 3×200×200, and then resized into 3×28×28.',\n",
              "  'url': 'https://zenodo.org/record/6496656/files/bloodmnist.npz?download=1',\n",
              "  'MD5': '7053d0359d879ad8a5505303e11de1dc',\n",
              "  'task': 'multi-class',\n",
              "  'label': {'0': 'basophil',\n",
              "   '1': 'eosinophil',\n",
              "   '2': 'erythroblast',\n",
              "   '3': 'immature granulocytes(myelocytes, metamyelocytes and promyelocytes)',\n",
              "   '4': 'lymphocyte',\n",
              "   '5': 'monocyte',\n",
              "   '6': 'neutrophil',\n",
              "   '7': 'platelet'},\n",
              "  'n_channels': 3,\n",
              "  'n_samples': {'train': 11959, 'val': 1712, 'test': 3421},\n",
              "  'license': 'CC BY 4.0'},\n",
              " 'tissuemnist': {'python_class': 'TissueMNIST',\n",
              "  'description': 'We use the BBBC051, available from the Broad Bioimage Benchmark Collection. The dataset contains 236,386 human kidney cortex cells, segmented from 3 reference tissue specimens and organized into 8 categories. We split the source dataset with a ratio of 7:1:2 into training, validation and test set. Each gray-scale image is 32×32×7 pixels, where 7 denotes 7 slices. We take maximum values across the slices and resize them into 28×28 gray-scale images.',\n",
              "  'url': 'https://zenodo.org/record/6496656/files/tissuemnist.npz?download=1',\n",
              "  'MD5': 'ebe78ee8b05294063de985d821c1c34b',\n",
              "  'task': 'multi-class',\n",
              "  'label': {'0': 'Collecting Duct, Connecting Tubule',\n",
              "   '1': 'Distal Convoluted Tubule',\n",
              "   '2': 'Glomerular endothelial cells',\n",
              "   '3': 'Interstitial endothelial cells',\n",
              "   '4': 'Leukocytes',\n",
              "   '5': 'Podocytes',\n",
              "   '6': 'Proximal Tubule Segments',\n",
              "   '7': 'Thick Ascending Limb'},\n",
              "  'n_channels': 1,\n",
              "  'n_samples': {'train': 165466, 'val': 23640, 'test': 47280},\n",
              "  'license': 'CC BY 4.0'},\n",
              " 'organamnist': {'python_class': 'OrganAMNIST',\n",
              "  'description': 'The OrganAMNIST is based on 3D computed tomography (CT) images from Liver Tumor Segmentation Benchmark (LiTS). It is renamed from OrganMNIST_Axial (in MedMNIST v1) for simplicity. We use bounding-box annotations of 11 body organs from another study to obtain the organ labels. Hounsfield-Unit (HU) of the 3D images are transformed into gray-scale with an abdominal window. We crop 2D images from the center slices of the 3D bounding boxes in axial views (planes). The images are resized into 1×28×28 to perform multi-class classification of 11 body organs. 115 and 16 CT scans from the source training set are used as training and validation set, respectively. The 70 CT scans from the source test set are treated as the test set.',\n",
              "  'url': 'https://zenodo.org/record/6496656/files/organamnist.npz?download=1',\n",
              "  'MD5': '866b832ed4eeba67bfb9edee1d5544e6',\n",
              "  'task': 'multi-class',\n",
              "  'label': {'0': 'bladder',\n",
              "   '1': 'femur-left',\n",
              "   '2': 'femur-right',\n",
              "   '3': 'heart',\n",
              "   '4': 'kidney-left',\n",
              "   '5': 'kidney-right',\n",
              "   '6': 'liver',\n",
              "   '7': 'lung-left',\n",
              "   '8': 'lung-right',\n",
              "   '9': 'pancreas',\n",
              "   '10': 'spleen'},\n",
              "  'n_channels': 1,\n",
              "  'n_samples': {'train': 34581, 'val': 6491, 'test': 17778},\n",
              "  'license': 'CC BY 4.0'},\n",
              " 'organcmnist': {'python_class': 'OrganCMNIST',\n",
              "  'description': 'The OrganCMNIST is based on 3D computed tomography (CT) images from Liver Tumor Segmentation Benchmark (LiTS). It is renamed from OrganMNIST_Coronal (in MedMNIST v1) for simplicity. We use bounding-box annotations of 11 body organs from another study to obtain the organ labels. Hounsfield-Unit (HU) of the 3D images are transformed into gray-scale with an abdominal window. We crop 2D images from the center slices of the 3D bounding boxes in coronal views (planes). The images are resized into 1×28×28 to perform multi-class classification of 11 body organs. 115 and 16 CT scans from the source training set are used as training and validation set, respectively. The 70 CT scans from the source test set are treated as the test set.',\n",
              "  'url': 'https://zenodo.org/record/6496656/files/organcmnist.npz?download=1',\n",
              "  'MD5': '0afa5834fb105f7705a7d93372119a21',\n",
              "  'task': 'multi-class',\n",
              "  'label': {'0': 'bladder',\n",
              "   '1': 'femur-left',\n",
              "   '2': 'femur-right',\n",
              "   '3': 'heart',\n",
              "   '4': 'kidney-left',\n",
              "   '5': 'kidney-right',\n",
              "   '6': 'liver',\n",
              "   '7': 'lung-left',\n",
              "   '8': 'lung-right',\n",
              "   '9': 'pancreas',\n",
              "   '10': 'spleen'},\n",
              "  'n_channels': 1,\n",
              "  'n_samples': {'train': 13000, 'val': 2392, 'test': 8268},\n",
              "  'license': 'CC BY 4.0'},\n",
              " 'organsmnist': {'python_class': 'OrganSMNIST',\n",
              "  'description': 'The OrganSMNIST is based on 3D computed tomography (CT) images from Liver Tumor Segmentation Benchmark (LiTS). It is renamed from OrganMNIST_Sagittal (in MedMNIST v1) for simplicity. We use bounding-box annotations of 11 body organs from another study to obtain the organ labels. Hounsfield-Unit (HU) of the 3D images are transformed into gray-scale with an abdominal window. We crop 2D images from the center slices of the 3D bounding boxes in sagittal views (planes). The images are resized into 1×28×28 to perform multi-class classification of 11 body organs. 115 and 16 CT scans from the source training set are used as training and validation set, respectively. The 70 CT scans from the source test set are treated as the test set.',\n",
              "  'url': 'https://zenodo.org/record/6496656/files/organsmnist.npz?download=1',\n",
              "  'MD5': 'e5c39f1af030238290b9557d9503af9d',\n",
              "  'task': 'multi-class',\n",
              "  'label': {'0': 'bladder',\n",
              "   '1': 'femur-left',\n",
              "   '2': 'femur-right',\n",
              "   '3': 'heart',\n",
              "   '4': 'kidney-left',\n",
              "   '5': 'kidney-right',\n",
              "   '6': 'liver',\n",
              "   '7': 'lung-left',\n",
              "   '8': 'lung-right',\n",
              "   '9': 'pancreas',\n",
              "   '10': 'spleen'},\n",
              "  'n_channels': 1,\n",
              "  'n_samples': {'train': 13940, 'val': 2452, 'test': 8829},\n",
              "  'license': 'CC BY 4.0'},\n",
              " 'organmnist3d': {'python_class': 'OrganMNIST3D',\n",
              "  'description': 'The source of the OrganMNIST3D is the same as that of the Organ{A,C,S}MNIST. Instead of 2D images, we directly use the 3D bounding boxes and process the images into 28×28×28 to perform multi-class classification of 11 body organs. The same 115 and 16 CT scans as the Organ{A,C,S}MNIST from the source training set are used as training and validation set, respectively, and the same 70 CT scans as the Organ{A,C,S}MNIST from the source test set are treated as the test set.',\n",
              "  'url': 'https://zenodo.org/record/6496656/files/organmnist3d.npz?download=1',\n",
              "  'MD5': '21f0a239e7f502e6eca33c3fc453c0b6',\n",
              "  'task': 'multi-class',\n",
              "  'label': {'0': 'liver',\n",
              "   '1': 'kidney-right',\n",
              "   '2': 'kidney-left',\n",
              "   '3': 'femur-right',\n",
              "   '4': 'femur-left',\n",
              "   '5': 'bladder',\n",
              "   '6': 'heart',\n",
              "   '7': 'lung-right',\n",
              "   '8': 'lung-left',\n",
              "   '9': 'spleen',\n",
              "   '10': 'pancreas'},\n",
              "  'n_channels': 1,\n",
              "  'n_samples': {'train': 972, 'val': 161, 'test': 610},\n",
              "  'license': 'CC BY 4.0'},\n",
              " 'nodulemnist3d': {'python_class': 'NoduleMNIST3D',\n",
              "  'description': 'The NoduleMNIST3D is based on the LIDC-IDRI, a large public lung nodule dataset, containing images from thoracic CT scans. The dataset is designed for both lung nodule segmentation and 5-level malignancy classification task. To perform binary classification, we categorize cases with malignancy level 1/2 into negative class and 4/5 into positive class, ignoring the cases with malignancy level 3. We split the source dataset with a ratio of 7:1:2 into training, validation and test set, and center-crop the spatially normalized images (with a spacing of 1mm×1mm×1mm) into 28×28×28.',\n",
              "  'url': 'https://zenodo.org/record/6496656/files/nodulemnist3d.npz?download=1',\n",
              "  'MD5': '8755a7e9e05a4d9ce80a24c3e7a256f3',\n",
              "  'task': 'binary-class',\n",
              "  'label': {'0': 'benign', '1': 'malignant'},\n",
              "  'n_channels': 1,\n",
              "  'n_samples': {'train': 1158, 'val': 165, 'test': 310},\n",
              "  'license': 'CC BY 4.0'},\n",
              " 'adrenalmnist3d': {'python_class': 'AdrenalMNIST3D',\n",
              "  'description': 'The AdrenalMNIST3D is a new 3D shape classification dataset, consisting of shape masks from 1,584 left and right adrenal glands (i.e., 792 patients). Collected from Zhongshan Hospital Affiliated to Fudan University, each 3D shape of adrenal gland is annotated by an expert endocrinologist using abdominal computed tomography (CT), together with a binary classification label of normal adrenal gland or adrenal mass. Considering patient privacy, we do not provide the source CT scans, but the real 3D shapes of adrenal glands and their classification labels. We calculate the center of adrenal and resize the center-cropped 64mm×64mm×64mm volume into 28×28×28. The dataset is randomly split into training/validation/test set of 1,188/98/298 on a patient level.',\n",
              "  'url': 'https://zenodo.org/record/6496656/files/adrenalmnist3d.npz?download=1',\n",
              "  'MD5': 'bbd3c5a5576322bc4cdfea780653b1ce',\n",
              "  'task': 'binary-class',\n",
              "  'label': {'0': 'normal', '1': 'hyperplasia'},\n",
              "  'n_channels': 1,\n",
              "  'n_samples': {'train': 1188, 'val': 98, 'test': 298},\n",
              "  'license': 'CC BY 4.0'},\n",
              " 'fracturemnist3d': {'python_class': 'FractureMNIST3D',\n",
              "  'description': 'The FractureMNIST3D is based on the RibFrac Dataset, containing around 5,000 rib fractures from 660 computed tomography 153 (CT) scans. The dataset organizes detected rib fractures into 4 clinical categories (i.e., buckle, nondisplaced, displaced, and segmental rib fractures). As we use low-resolution images, we disregard segmental rib fractures and classify 3 types of rib fractures (i.e., buckle, nondisplaced, and displaced). For each annotated fracture area, we calculate its center and resize the center-cropped 64mm×64mm×64mm image into 28×28×28. The official split of training, validation and test set is used.',\n",
              "  'url': 'https://zenodo.org/record/6496656/files/fracturemnist3d.npz?download=1',\n",
              "  'MD5': '6aa7b0143a6b42da40027a9dda61302f',\n",
              "  'task': 'multi-class',\n",
              "  'label': {'0': 'buckle rib fracture',\n",
              "   '1': 'nondisplaced rib fracture',\n",
              "   '2': 'displaced rib fracture'},\n",
              "  'n_channels': 1,\n",
              "  'n_samples': {'train': 1027, 'val': 103, 'test': 240},\n",
              "  'license': 'CC BY 4.0'},\n",
              " 'vesselmnist3d': {'python_class': 'VesselMNIST3D',\n",
              "  'description': 'The VesselMNIST3D is based on an open-access 3D intracranial aneurysm dataset, IntrA, containing 103 3D models (meshes) of entire brain vessels collected by reconstructing MRA images. 1,694 healthy vessel segments and 215 aneurysm segments are generated automatically from the complete models. We fix the non-watertight mesh with PyMeshFix and voxelize the watertight mesh with trimesh into 28×28×28 voxels. We split the source dataset with a ratio of 7:1:2 into training, validation and test set.',\n",
              "  'url': 'https://zenodo.org/record/6496656/files/vesselmnist3d.npz?download=1',\n",
              "  'MD5': '2ba5b80617d705141f3f85627108fce8',\n",
              "  'task': 'binary-class',\n",
              "  'label': {'0': 'vessel', '1': 'aneurysm'},\n",
              "  'n_channels': 1,\n",
              "  'n_samples': {'train': 1335, 'val': 192, 'test': 382},\n",
              "  'license': 'CC BY 4.0'},\n",
              " 'synapsemnist3d': {'python_class': 'SynapseMNIST3D',\n",
              "  'description': 'The SynapseMNIST3D is a new 3D volume dataset to classify whether a synapse is excitatory or inhibitory. It uses a 3D image volume of an adult rat acquired by a multi-beam scanning electron microscope. The original data is of the size 100×100×100um^3 and the resolution 8×8×30nm^3, where a (30um)^3 sub-volume was used in the MitoEM dataset with dense 3D mitochondria instance segmentation labels. Three neuroscience experts segment a pyramidal neuron within the whole volume and proofread all the synapses on this neuron with excitatory/inhibitory labels. For each labeled synaptic location, we crop a 3D volume of 1024×1024×1024nm^3 and resize it into 28×28×28 voxels. Finally, the dataset is randomly split with a ratio of 7:1:2 into training, validation and test set.',\n",
              "  'url': 'https://zenodo.org/record/6496656/files/synapsemnist3d.npz?download=1',\n",
              "  'MD5': '1235b78a3cd6280881dd7850a78eadb6',\n",
              "  'task': 'binary-class',\n",
              "  'label': {'0': 'inhibitory synapse', '1': 'excitatory synapse'},\n",
              "  'n_channels': 1,\n",
              "  'n_samples': {'train': 1230, 'val': 177, 'test': 352},\n",
              "  'license': 'CC BY 4.0'}}"
            ]
          },
          "execution_count": 5,
          "metadata": {},
          "output_type": "execute_result"
        }
      ],
      "source": [
        "# getting all data flags in MedMNIST\n",
        "medmnist.INFO"
      ]
    },
    {
      "cell_type": "code",
      "execution_count": 6,
      "metadata": {
        "id": "4-BlVCj9Gnai"
      },
      "outputs": [],
      "source": [
        "# List of datasets that we are going to use in this experiment\n",
        "data_flags = ['octmnist', 'organamnist', 'tissuemnist']\n",
        "num_tasks = 3"
      ]
    },
    {
      "cell_type": "code",
      "execution_count": 7,
      "metadata": {
        "id": "X0HDNdGFn-FY"
      },
      "outputs": [],
      "source": [
        "def get_transform():\n",
        "  '''\n",
        "  preprocessing\n",
        "  '''\n",
        "  data_transform = transforms.Compose([\n",
        "      transforms.Resize((224, 224), interpolation=PIL.Image.NEAREST),\n",
        "      transforms.ToTensor(),\n",
        "      transforms.Normalize(mean=[.5], std=[.5])\n",
        "  ])\n",
        "\n",
        "  return data_transform"
      ]
    },
    {
      "cell_type": "code",
      "execution_count": 8,
      "metadata": {
        "id": "NAv8zfk1m9gK"
      },
      "outputs": [],
      "source": [
        "def get_dataset(dataset_name='pathmnist', split='train'):\n",
        "  '''\n",
        "  load the data\n",
        "  '''\n",
        "  info = INFO[dataset_name]\n",
        "  DataClass = getattr(medmnist, info['python_class']) # To load selected MedMNIST dataset\n",
        "\n",
        "  data_transform = get_transform()\n",
        "  dataset = DataClass(split=split, transform=data_transform, download=True)\n",
        "\n",
        "  return dataset, info"
      ]
    },
    {
      "cell_type": "code",
      "execution_count": 9,
      "metadata": {
        "colab": {
          "base_uri": "https://localhost:8080/"
        },
        "id": "GO00x0wr2NRD",
        "outputId": "706ad4e8-7eba-4fc5-da8e-a64f399be454"
      },
      "outputs": [
        {
          "name": "stdout",
          "output_type": "stream",
          "text": [
            "Using downloaded and verified file: /Users/atefe/.medmnist/octmnist.npz\n"
          ]
        },
        {
          "name": "stdout",
          "output_type": "stream",
          "text": [
            "Using downloaded and verified file: /Users/atefe/.medmnist/organamnist.npz\n",
            "Using downloaded and verified file: /Users/atefe/.medmnist/tissuemnist.npz\n"
          ]
        }
      ],
      "source": [
        "dataflag_to_dataset = dict()\n",
        "\n",
        "for data_flag in data_flags:\n",
        "  dataset, info = get_dataset(dataset_name = data_flag, split='train')\n",
        "  dataflag_to_dataset[data_flag] = (dataset, info)"
      ]
    },
    {
      "cell_type": "code",
      "execution_count": 10,
      "metadata": {
        "colab": {
          "base_uri": "https://localhost:8080/"
        },
        "id": "jhlzGDcjHmAB",
        "outputId": "1329d353-1db8-4ba3-9fb7-9e65d19c32f8"
      },
      "outputs": [
        {
          "name": "stdout",
          "output_type": "stream",
          "text": [
            "n_channels: 1\n"
          ]
        }
      ],
      "source": [
        "info = INFO['octmnist']\n",
        "n_channels = info['n_channels']\n",
        "print(\"n_channels:\", n_channels)"
      ]
    },
    {
      "cell_type": "code",
      "execution_count": 11,
      "metadata": {},
      "outputs": [
        {
          "name": "stdout",
          "output_type": "stream",
          "text": [
            "octmnist\n",
            "97477\n",
            "8000\n",
            "organamnist\n",
            "34581\n",
            "8000\n",
            "tissuemnist\n",
            "165466\n",
            "8000\n",
            "server_train_data_centralized shape: (19200, 28, 28)\n",
            "server_train_labels_centralized shape: (19200,)\n",
            "server_test_data_centralized shape: (4800, 28, 28)\n",
            "server_test_labels_centralized shape: (4800,)\n"
          ]
        }
      ],
      "source": [
        "# Splitting server into train/test dataset while shifting the labels for non-federated \n",
        "# For example: labels 0-3 -> 0-3, 0-4 -> 4-8\n",
        "\n",
        "amount = 8000\n",
        "shift = 0\n",
        "split_ratio = 0.2\n",
        "server_train_data, server_train_labels, server_test_data, server_test_labels = list(), list(), list(), list()\n",
        "\n",
        "for data_flag, (data, info) in dataflag_to_dataset.items():\n",
        "  print(data_flag)\n",
        "  print(len(data.imgs))\n",
        "  dataset = data.imgs[0: amount]\n",
        "  print(len(dataset))\n",
        "  # select the amount of labels and make it falt\n",
        "  labels = list(np.ravel(data.labels[0: amount]))\n",
        "\n",
        "  labels = [label + shift for label in labels]\n",
        "  shift += len(dataflag_to_dataset[data_flag][1]['label'].keys())\n",
        "\n",
        "  server_train_data.append(dataset[int(amount * split_ratio):])\n",
        "  server_train_labels.append(labels[int(amount * split_ratio):])\n",
        "\n",
        "  server_test_data.append(dataset[0: int(amount * split_ratio)])\n",
        "  server_test_labels.append(labels[0: int(amount * split_ratio)])\n",
        "\n",
        "server_train_data_centralized = np.concatenate(server_train_data, axis=0)\n",
        "server_train_labels_centralized = np.concatenate(server_train_labels, axis=0)\n",
        "\n",
        "server_test_data_centralized = np.concatenate(server_test_data, axis=0)\n",
        "server_test_labels_centralized = np.concatenate(server_test_labels, axis=0)\n",
        "\n",
        "print(\"server_train_data_centralized shape:\", server_train_data_centralized.shape)\n",
        "print(\"server_train_labels_centralized shape:\", server_train_labels_centralized.shape)\n",
        "print(\"server_test_data_centralized shape:\", server_test_data_centralized.shape)\n",
        "print(\"server_test_labels_centralized shape:\", server_test_labels_centralized.shape)"
      ]
    },
    {
      "cell_type": "code",
      "execution_count": 12,
      "metadata": {},
      "outputs": [],
      "source": [
        "# Shuffeling the server data and labels simultaneously\n",
        "idx_train = np.random.permutation(len(server_train_labels_centralized))\n",
        "server_train_data_centralized, server_train_labels_centralized = server_train_data_centralized[idx_train], server_train_labels_centralized[idx_train]"
      ]
    },
    {
      "cell_type": "code",
      "execution_count": 13,
      "metadata": {},
      "outputs": [],
      "source": [
        "server_valid_data_centralized = server_train_data_centralized[0:int(0.1 * len(server_train_data_centralized))]\n",
        "server_valid_labels_centralized = server_train_labels_centralized[0:int(0.1 * len(server_train_labels_centralized))]\n",
        "\n",
        "server_train_data_centralized = server_train_data_centralized[int(0.1 * len(server_train_data_centralized)):]\n",
        "server_train_labels_centralized = server_train_labels_centralized[int(0.1 * len(server_train_labels_centralized)):]"
      ]
    },
    {
      "cell_type": "code",
      "execution_count": 14,
      "metadata": {},
      "outputs": [],
      "source": [
        "# Shuffeling the server data and labels simultaneously\n",
        "idx_test = np.random.permutation(len(server_test_data_centralized))\n",
        "server_test_data_centralized, server_test_labels_centralized = server_test_data_centralized[idx_test], server_test_labels_centralized[idx_test]"
      ]
    },
    {
      "cell_type": "code",
      "execution_count": 15,
      "metadata": {},
      "outputs": [],
      "source": [
        "server_train_data_centralized = server_train_data_centralized.astype('float32')\n",
        "server_test_data_centralized = server_test_data_centralized.astype('float32')\n",
        "server_valid_data_centralized = server_valid_data_centralized.astype('float32')\n",
        "\n",
        "server_train_data_centralized = server_train_data_centralized[:,None,:,:]\n",
        "server_train_labels_centralized = server_train_labels_centralized[:, None]\n",
        "\n",
        "server_valid_data_centralized = server_valid_data_centralized[:,None,:,:]\n",
        "server_valid_labels_centralized = server_valid_labels_centralized[:, None]\n",
        "\n",
        "server_test_data_centralized = server_test_data_centralized[:,None,:,:]\n",
        "server_test_labels_centralized = server_test_labels_centralized[:, None]\n",
        "\n",
        "server_train_data_centralized, server_train_labels_centralized, server_valid_data_centralized, server_valid_labels_centralized, server_test_data_centralized, server_test_labels_centralized  = map(torch.tensor, (server_train_data_centralized, server_train_labels_centralized, server_valid_data_centralized, server_valid_labels_centralized, server_test_data_centralized, server_test_labels_centralized ))\n"
      ]
    },
    {
      "cell_type": "code",
      "execution_count": 16,
      "metadata": {},
      "outputs": [],
      "source": [
        "# Define a custom transformation function to resize the images\n",
        "def resize_transform(image_tensor, new_height, new_width):\n",
        "  image_pil = transforms.ToPILImage()(image_tensor)\n",
        "  resized_image = transforms.Resize((new_height, new_width))(image_pil)\n",
        "  return transforms.ToTensor()(resized_image)"
      ]
    },
    {
      "cell_type": "code",
      "execution_count": 17,
      "metadata": {},
      "outputs": [],
      "source": [
        "server_batch_size = 64\n",
        "\n",
        "# Apply the custom transformation to the entire dataset\n",
        "resized_images_train = [resize_transform(image, 32, 32) for image in server_train_data_centralized]\n",
        "train_ds_server = TensorDataset(torch.stack(resized_images_train), server_train_labels_centralized)\n",
        "\n",
        "resized_images_valid= [resize_transform(image, 32, 32) for image in server_valid_data_centralized]\n",
        "valid_ds_server = TensorDataset(torch.stack(resized_images_valid), server_valid_labels_centralized)\n",
        "\n",
        "resized_images_test = [resize_transform(image, 32, 32) for image in server_test_data_centralized]\n",
        "test_ds_server = TensorDataset(torch.stack(resized_images_test), server_test_labels_centralized)\n",
        "###\n",
        "\n",
        "train_dl_server = DataLoader(train_ds_server, batch_size=server_batch_size, shuffle=True)\n",
        "valid_dl_server = DataLoader(valid_ds_server, batch_size=server_batch_size, shuffle=True)\n",
        "test_dl_server = DataLoader(test_ds_server, batch_size=server_batch_size)"
      ]
    },
    {
      "cell_type": "markdown",
      "metadata": {},
      "source": [
        "decentralized  data"
      ]
    },
    {
      "cell_type": "markdown",
      "metadata": {
        "id": "BgW6ZSj8jd8D"
      },
      "source": [
        "## Classification Model"
      ]
    },
    {
      "cell_type": "code",
      "execution_count": 18,
      "metadata": {
        "id": "Zm06e-iYdL0K"
      },
      "outputs": [],
      "source": [
        "def get_model(model_name):\n",
        "  if model_name == 'CNN5':\n",
        "    return CNN5()\n",
        "  if model_name == 'VGG11':\n",
        "    return VGG11()\n",
        "  elif model_name == 'ResNet_18':\n",
        "    return ResNet_18()"
      ]
    },
    {
      "cell_type": "code",
      "execution_count": 19,
      "metadata": {
        "id": "rp-8NpCkj6xa"
      },
      "outputs": [],
      "source": [
        "# def train(model, train_loader, criterion, optimizer):\n",
        "\n",
        "#   model.train()\n",
        "#   train_loss = 0.0\n",
        "#   correct = 0\n",
        "#   conf_matrix = torch.zeros(n_classes, n_classes)\n",
        "#   # metrics variables\n",
        "#   accuracy, precision, recall, f1 = [], [], [], []\n",
        "\n",
        "#   for data, target in train_loader:\n",
        "\n",
        "#     optimizer.zero_grad()\n",
        "#     output = model(data)\n",
        "\n",
        "#     target = target.squeeze().long()\n",
        "#     loss = criterion(output, target)\n",
        "\n",
        "#     loss.backward()\n",
        "#     optimizer.step()\n",
        "\n",
        "#     train_loss += loss.item()\n",
        "#     prediction = output.argmax(dim=1, keepdim=True)\n",
        "#     correct += prediction.eq(target.view_as(prediction)).sum().item()\n",
        "\n",
        "#     accuracy.append(accuracy_score(prediction, target))\n",
        "\n",
        "#     # Calculate Sensitivity, Specificity, and F1-score for each class\n",
        "#     metrics = precision_recall_fscore_support(prediction, target, average='macro', zero_division=0.0)\n",
        "#     precision_e, recall_e, f1_e, _ = metrics\n",
        "\n",
        "#     precision.append(precision_e)\n",
        "#     recall.append(recall_e)\n",
        "#     f1.append(f1_e)\n",
        "\n",
        "#     for t, p in zip(target, prediction):\n",
        "#       conf_matrix[t, p] += 1\n",
        "\n",
        "#   TP = conf_matrix.diag()\n",
        "#   specificity = []\n",
        "#   for c in range(n_classes):\n",
        "#       idx = torch.ones(n_classes).byte()\n",
        "#       idx[c] = 0\n",
        "#       # all non-class samples classified as non-class\n",
        "#       TN = conf_matrix[idx.nonzero()[:, None], idx.nonzero()].sum() #conf_matrix[idx[:, None], idx].sum() - conf_matrix[idx, c].sum()\n",
        "#       # all non-class samples classified as class\n",
        "#       FP = conf_matrix[idx, c].sum()\n",
        "#       # all class samples not classified as class\n",
        "#       FN = conf_matrix[c, idx].sum()\n",
        "    \n",
        "#       # print('Class {}\\nTP {}, TN {}, FP {}, FN {}'.format(c, TP[c], TN, FP, FN))\n",
        "\n",
        "#       specificity_c = TN / (TN + FP)\n",
        "#       specificity.append(specificity_c)\n",
        "\n",
        "#   # Print the results\n",
        "#   # perfromance metrics per epoch \n",
        "#   # print(f'Accuracy: {np.mean(accuracy):.4f}')\n",
        "#   # print(f'Sensitivity (Recall): {np.mean(recall):.4f}')\n",
        "#   # print(f'Specificity: {np.mean(specificity):.4f}')\n",
        "#   # print(f'F1-score: {np.mean(f1):.4f}')\n",
        " \n",
        "\n",
        "#   return train_loss/len(train_loader), correct/len(train_loader.dataset), np.mean(accuracy), np.mean(recall), np.mean(specificity), np.mean(f1)"
      ]
    },
    {
      "cell_type": "code",
      "execution_count": 20,
      "metadata": {
        "id": "xTQs7RrZj9W1"
      },
      "outputs": [],
      "source": [
        "# def validation(model, test_loader, criterion):\n",
        "#   model.eval()\n",
        "#   test_loss = 0\n",
        "#   correct = 0\n",
        "#   with torch.no_grad():\n",
        "#     for data, target in test_loader:\n",
        "#       output = model(data)\n",
        "#       target = target.squeeze().long()\n",
        "#       test_loss += criterion(output, target).item()\n",
        "#       prediction = output.argmax(dim=1, keepdim=True)\n",
        "#       correct += prediction.eq(target.view_as(prediction)).sum().item()\n",
        "#   # test_loss = 0 if len(test_loader) == 0 else test_loss /= len(test_loader)\n",
        "#   if len(test_loader) == 0:\n",
        "#     # print(\"Can't perform division: the y variable is 0\")\n",
        "#     test_loss = 0\n",
        "#   else:\n",
        "#     test_loss /= len(test_loader)\n",
        "#     # test_loss /= len(test_loader)\n",
        "#   if len(test_loader.dataset) == 0:\n",
        "#     # print(\"Can't perform division: the yy variable is 0\")\n",
        "#     correct = 0\n",
        "#   else:\n",
        "#     correct /= len(test_loader.dataset)\n",
        "#     # correct /= len(test_loader.dataset)\n",
        "\n",
        "#   return (test_loss, correct)"
      ]
    },
    {
      "cell_type": "markdown",
      "metadata": {},
      "source": [
        "## Added for New Eval Metrics\n",
        "> WE need to specify the number of classes for each dataset in the evaluation pipeline."
      ]
    },
    {
      "cell_type": "code",
      "execution_count": 21,
      "metadata": {},
      "outputs": [],
      "source": [
        "# def validation(model, test_loader, criterion):\n",
        "#   model.eval()\n",
        "#   test_loss = 0\n",
        "#   correct = 0\n",
        "#   conf_matrix = torch.zeros(n_classes, n_classes)\n",
        "#   # metrics variables\n",
        "#   accuracy, precision, recall, f1 = [], [], [], []\n",
        "  \n",
        "#   with torch.no_grad():\n",
        "#     for data, target in test_loader:\n",
        "#       output = model(data)\n",
        "#       target = target.squeeze().long()\n",
        "#       test_loss += criterion(output, target).item()\n",
        "#       prediction = output.argmax(dim=1, keepdim=True)\n",
        "#       correct += prediction.eq(target.view_as(prediction)).sum().item()\n",
        "      \n",
        "#       # accuracy per batch\n",
        "#       accuracy.append(accuracy_score(prediction, target))\n",
        "\n",
        "#       # Calculate Sensitivity, Specificity, and F1-score for each class\n",
        "#       metrics = precision_recall_fscore_support(prediction, target, average='macro', zero_division=0.0)\n",
        "#       precision_e, recall_e, f1_e, _ = metrics\n",
        "\n",
        "#       precision.append(precision_e)\n",
        "#       recall.append(recall_e)\n",
        "#       f1.append(f1_e)\n",
        "\n",
        "#       for t, p in zip(target, prediction):\n",
        "#         conf_matrix[t, p] += 1\n",
        "\n",
        "#   TP = conf_matrix.diag()\n",
        "#   specificity = []\n",
        "#   for c in range(n_classes):\n",
        "#       idx = torch.ones(n_classes).byte()\n",
        "#       idx[c] = 0\n",
        "#       # all non-class samples classified as non-class\n",
        "#       TN = conf_matrix[idx.nonzero()[:, None], idx.nonzero()].sum() #conf_matrix[idx[:, None], idx].sum() - conf_matrix[idx, c].sum()\n",
        "#       # all non-class samples classified as class\n",
        "#       FP = conf_matrix[idx, c].sum()\n",
        "#       # all class samples not classified as class\n",
        "#       FN = conf_matrix[c, idx].sum()\n",
        "    \n",
        "#       # print('Class {}\\nTP {}, TN {}, FP {}, FN {}'.format(c, TP[c], TN, FP, FN))\n",
        "\n",
        "#       specificity_c = TN / (TN + FP)\n",
        "#       specificity.append(specificity_c)\n",
        "\n",
        "#   # Print the results\n",
        "#   # perfromance metrics per epoch \n",
        "#   # print(f'Accuracy: {np.mean(accuracy):.4f}')\n",
        "#   # print(f'Sensitivity (Recall): {np.mean(recall):.4f}')\n",
        "#   # print(f'Specificity: {np.mean(specificity):.4f}')\n",
        "#   # print(f'F1-score: {np.mean(f1):.4f}')\n",
        "\n",
        "#   # test_loss = 0 if len(test_loader) == 0 else test_loss /= len(test_loader)\n",
        "#   if len(test_loader) == 0:\n",
        "#     # print(\"Can't perform division: the y variable is 0\")\n",
        "#     test_loss = 0\n",
        "#   else:\n",
        "#     test_loss /= len(test_loader)\n",
        "    \n",
        "#   if len(test_loader.dataset) == 0:\n",
        "#     # print(\"Can't perform division: the yy variable is 0\")\n",
        "#     correct = 0\n",
        "#   else:\n",
        "#     correct /= len(test_loader.dataset)\n",
        "\n",
        "#   return (test_loss, correct, np.mean(accuracy), np.mean(recall), np.mean(specificity), np.mean(f1))"
      ]
    },
    {
      "cell_type": "code",
      "execution_count": 22,
      "metadata": {},
      "outputs": [],
      "source": [
        "def create_file():\n",
        "    baseline_metrics_train= open(f\"results/{STRATEGY}/{MODEL}/{SPILT}/baseline_train_lr{learning_rate}_bs{batch_size}.txt\", 'w')\n",
        "    baseline_metrics_train.write(\"iteration\\ttrain_accuracy\\ttrain_loss\\t train_accuracy_skl\\ttrain_sensitivity\\ttrain_specificity\\ttrain_f1\\n\")\n",
        "     \n",
        "    baseline_metrics_validation= open(f\"results/{STRATEGY}/{MODEL}/{SPILT}/baseline_validation_lr{learning_rate}_bs{batch_size}.txt\", 'w')\n",
        "    baseline_metrics_validation.write(\"iteration\\tvalid_accuracy\\t valid_accuracy_skl\\tvalid_loss\\tvalid_sensitivity\\tvalid_specificity\\tvalid_f1\\n\")\n",
        "    \n",
        "    return baseline_metrics_train, baseline_metrics_validation"
      ]
    },
    {
      "cell_type": "markdown",
      "metadata": {
        "id": "0bN9Q2hJlPCa"
      },
      "source": [
        "### Parameter Initialization: Models, Optimizers, and Loss Functions"
      ]
    },
    {
      "cell_type": "code",
      "execution_count": 23,
      "metadata": {},
      "outputs": [],
      "source": [
        "learning_rate = 0.0001\n",
        "batch_size = 64\n",
        "momentum = 0.9\n",
        "n_classes = 23\n",
        "n_channels = 1\n",
        "\n",
        "STRATEGY = \"NonFederated\"\n",
        "\n",
        "SPILT = \"Random\"\n",
        "# MODEL = ['CNN5', 'VGG11', 'ResNet18']\n",
        "MODEL = 'CNN5'\n",
        "NUM_ITERATION = 50\n"
      ]
    },
    {
      "cell_type": "code",
      "execution_count": 24,
      "metadata": {},
      "outputs": [],
      "source": [
        "base_model = get_model(model_name=MODEL)\n",
        "# base_model (to print the architecture of the model)"
      ]
    },
    {
      "cell_type": "code",
      "execution_count": 25,
      "metadata": {},
      "outputs": [],
      "source": [
        "baseline_metrics_train, baseline_metrics_validation = create_file()"
      ]
    },
    {
      "cell_type": "code",
      "execution_count": 26,
      "metadata": {},
      "outputs": [
        {
          "name": "stdout",
          "output_type": "stream",
          "text": [
            "Model is CNN5\n",
            "-------Baseline result----------\n"
          ]
        },
        {
          "name": "stderr",
          "output_type": "stream",
          "text": [
            "/Users/atefe/Desktop/TestClass/Training.py:55: UserWarning: indexing with dtype torch.uint8 is now deprecated, please use a dtype torch.bool instead. (Triggered internally at /Users/runner/work/pytorch/pytorch/pytorch/aten/src/ATen/native/IndexingUtils.h:28.)\n",
            "  FP = conf_matrix[idx, c].sum()\n",
            "/Users/atefe/Desktop/TestClass/Training.py:57: UserWarning: indexing with dtype torch.uint8 is now deprecated, please use a dtype torch.bool instead. (Triggered internally at /Users/runner/work/pytorch/pytorch/pytorch/aten/src/ATen/native/IndexingUtils.h:28.)\n",
            "  FN = conf_matrix[c, idx].sum()\n",
            "/Users/atefe/Desktop/TestClass/Evaluation.py:47: UserWarning: indexing with dtype torch.uint8 is now deprecated, please use a dtype torch.bool instead. (Triggered internally at /Users/runner/work/pytorch/pytorch/pytorch/aten/src/ATen/native/IndexingUtils.h:28.)\n",
            "  FP = conf_matrix[idx, c].sum()\n",
            "/Users/atefe/Desktop/TestClass/Evaluation.py:49: UserWarning: indexing with dtype torch.uint8 is now deprecated, please use a dtype torch.bool instead. (Triggered internally at /Users/runner/work/pytorch/pytorch/pytorch/aten/src/ATen/native/IndexingUtils.h:28.)\n",
            "  FN = conf_matrix[c, idx].sum()\n"
          ]
        },
        {
          "name": "stdout",
          "output_type": "stream",
          "text": [
            "epoch:   1 | train accuracy:  0.0987 | valid accuracy:  0.2333\n",
            "epoch:   1 | train loss:  3.0986 | valid loss:  3.0183\n",
            "Validation loss decreased (inf --> 3.018330).  Saving model ...\n",
            "-------Baseline result----------\n"
          ]
        },
        {
          "name": "stderr",
          "output_type": "stream",
          "text": [
            "/Users/atefe/Desktop/TestClass/Training.py:55: UserWarning: indexing with dtype torch.uint8 is now deprecated, please use a dtype torch.bool instead. (Triggered internally at /Users/runner/work/pytorch/pytorch/pytorch/aten/src/ATen/native/IndexingUtils.h:28.)\n",
            "  FP = conf_matrix[idx, c].sum()\n",
            "/Users/atefe/Desktop/TestClass/Training.py:57: UserWarning: indexing with dtype torch.uint8 is now deprecated, please use a dtype torch.bool instead. (Triggered internally at /Users/runner/work/pytorch/pytorch/pytorch/aten/src/ATen/native/IndexingUtils.h:28.)\n",
            "  FN = conf_matrix[c, idx].sum()\n",
            "/Users/atefe/Desktop/TestClass/Evaluation.py:47: UserWarning: indexing with dtype torch.uint8 is now deprecated, please use a dtype torch.bool instead. (Triggered internally at /Users/runner/work/pytorch/pytorch/pytorch/aten/src/ATen/native/IndexingUtils.h:28.)\n",
            "  FP = conf_matrix[idx, c].sum()\n",
            "/Users/atefe/Desktop/TestClass/Evaluation.py:49: UserWarning: indexing with dtype torch.uint8 is now deprecated, please use a dtype torch.bool instead. (Triggered internally at /Users/runner/work/pytorch/pytorch/pytorch/aten/src/ATen/native/IndexingUtils.h:28.)\n",
            "  FN = conf_matrix[c, idx].sum()\n"
          ]
        },
        {
          "name": "stdout",
          "output_type": "stream",
          "text": [
            "epoch:   2 | train accuracy:  0.2163 | valid accuracy:  0.2510\n",
            "epoch:   2 | train loss:  2.9287 | valid loss:  2.7487\n",
            "Validation loss decreased (3.018330 --> 2.748716).  Saving model ...\n",
            "-------Baseline result----------\n"
          ]
        },
        {
          "name": "stderr",
          "output_type": "stream",
          "text": [
            "/Users/atefe/Desktop/TestClass/Training.py:55: UserWarning: indexing with dtype torch.uint8 is now deprecated, please use a dtype torch.bool instead. (Triggered internally at /Users/runner/work/pytorch/pytorch/pytorch/aten/src/ATen/native/IndexingUtils.h:28.)\n",
            "  FP = conf_matrix[idx, c].sum()\n",
            "/Users/atefe/Desktop/TestClass/Training.py:57: UserWarning: indexing with dtype torch.uint8 is now deprecated, please use a dtype torch.bool instead. (Triggered internally at /Users/runner/work/pytorch/pytorch/pytorch/aten/src/ATen/native/IndexingUtils.h:28.)\n",
            "  FN = conf_matrix[c, idx].sum()\n",
            "/Users/atefe/Desktop/TestClass/Evaluation.py:47: UserWarning: indexing with dtype torch.uint8 is now deprecated, please use a dtype torch.bool instead. (Triggered internally at /Users/runner/work/pytorch/pytorch/pytorch/aten/src/ATen/native/IndexingUtils.h:28.)\n",
            "  FP = conf_matrix[idx, c].sum()\n",
            "/Users/atefe/Desktop/TestClass/Evaluation.py:49: UserWarning: indexing with dtype torch.uint8 is now deprecated, please use a dtype torch.bool instead. (Triggered internally at /Users/runner/work/pytorch/pytorch/pytorch/aten/src/ATen/native/IndexingUtils.h:28.)\n",
            "  FN = conf_matrix[c, idx].sum()\n"
          ]
        },
        {
          "name": "stdout",
          "output_type": "stream",
          "text": [
            "epoch:   3 | train accuracy:  0.2267 | valid accuracy:  0.2646\n",
            "epoch:   3 | train loss:  2.6061 | valid loss:  2.3815\n",
            "Validation loss decreased (2.748716 --> 2.381502).  Saving model ...\n",
            "-------Baseline result----------\n"
          ]
        },
        {
          "name": "stderr",
          "output_type": "stream",
          "text": [
            "/Users/atefe/Desktop/TestClass/Training.py:55: UserWarning: indexing with dtype torch.uint8 is now deprecated, please use a dtype torch.bool instead. (Triggered internally at /Users/runner/work/pytorch/pytorch/pytorch/aten/src/ATen/native/IndexingUtils.h:28.)\n",
            "  FP = conf_matrix[idx, c].sum()\n",
            "/Users/atefe/Desktop/TestClass/Training.py:57: UserWarning: indexing with dtype torch.uint8 is now deprecated, please use a dtype torch.bool instead. (Triggered internally at /Users/runner/work/pytorch/pytorch/pytorch/aten/src/ATen/native/IndexingUtils.h:28.)\n",
            "  FN = conf_matrix[c, idx].sum()\n",
            "/Users/atefe/Desktop/TestClass/Evaluation.py:47: UserWarning: indexing with dtype torch.uint8 is now deprecated, please use a dtype torch.bool instead. (Triggered internally at /Users/runner/work/pytorch/pytorch/pytorch/aten/src/ATen/native/IndexingUtils.h:28.)\n",
            "  FP = conf_matrix[idx, c].sum()\n",
            "/Users/atefe/Desktop/TestClass/Evaluation.py:49: UserWarning: indexing with dtype torch.uint8 is now deprecated, please use a dtype torch.bool instead. (Triggered internally at /Users/runner/work/pytorch/pytorch/pytorch/aten/src/ATen/native/IndexingUtils.h:28.)\n",
            "  FN = conf_matrix[c, idx].sum()\n"
          ]
        },
        {
          "name": "stdout",
          "output_type": "stream",
          "text": [
            "epoch:   4 | train accuracy:  0.2697 | valid accuracy:  0.3490\n",
            "epoch:   4 | train loss:  2.3508 | valid loss:  2.1595\n",
            "Validation loss decreased (2.381502 --> 2.159549).  Saving model ...\n",
            "-------Baseline result----------\n"
          ]
        },
        {
          "name": "stderr",
          "output_type": "stream",
          "text": [
            "/Users/atefe/Desktop/TestClass/Training.py:55: UserWarning: indexing with dtype torch.uint8 is now deprecated, please use a dtype torch.bool instead. (Triggered internally at /Users/runner/work/pytorch/pytorch/pytorch/aten/src/ATen/native/IndexingUtils.h:28.)\n",
            "  FP = conf_matrix[idx, c].sum()\n",
            "/Users/atefe/Desktop/TestClass/Training.py:57: UserWarning: indexing with dtype torch.uint8 is now deprecated, please use a dtype torch.bool instead. (Triggered internally at /Users/runner/work/pytorch/pytorch/pytorch/aten/src/ATen/native/IndexingUtils.h:28.)\n",
            "  FN = conf_matrix[c, idx].sum()\n",
            "/Users/atefe/Desktop/TestClass/Evaluation.py:47: UserWarning: indexing with dtype torch.uint8 is now deprecated, please use a dtype torch.bool instead. (Triggered internally at /Users/runner/work/pytorch/pytorch/pytorch/aten/src/ATen/native/IndexingUtils.h:28.)\n",
            "  FP = conf_matrix[idx, c].sum()\n",
            "/Users/atefe/Desktop/TestClass/Evaluation.py:49: UserWarning: indexing with dtype torch.uint8 is now deprecated, please use a dtype torch.bool instead. (Triggered internally at /Users/runner/work/pytorch/pytorch/pytorch/aten/src/ATen/native/IndexingUtils.h:28.)\n",
            "  FN = conf_matrix[c, idx].sum()\n"
          ]
        },
        {
          "name": "stdout",
          "output_type": "stream",
          "text": [
            "epoch:   5 | train accuracy:  0.3300 | valid accuracy:  0.3839\n",
            "epoch:   5 | train loss:  2.1600 | valid loss:  1.9706\n",
            "Validation loss decreased (2.159549 --> 1.970650).  Saving model ...\n",
            "-------Baseline result----------\n"
          ]
        },
        {
          "name": "stderr",
          "output_type": "stream",
          "text": [
            "/Users/atefe/Desktop/TestClass/Training.py:55: UserWarning: indexing with dtype torch.uint8 is now deprecated, please use a dtype torch.bool instead. (Triggered internally at /Users/runner/work/pytorch/pytorch/pytorch/aten/src/ATen/native/IndexingUtils.h:28.)\n",
            "  FP = conf_matrix[idx, c].sum()\n",
            "/Users/atefe/Desktop/TestClass/Training.py:57: UserWarning: indexing with dtype torch.uint8 is now deprecated, please use a dtype torch.bool instead. (Triggered internally at /Users/runner/work/pytorch/pytorch/pytorch/aten/src/ATen/native/IndexingUtils.h:28.)\n",
            "  FN = conf_matrix[c, idx].sum()\n",
            "/Users/atefe/Desktop/TestClass/Evaluation.py:47: UserWarning: indexing with dtype torch.uint8 is now deprecated, please use a dtype torch.bool instead. (Triggered internally at /Users/runner/work/pytorch/pytorch/pytorch/aten/src/ATen/native/IndexingUtils.h:28.)\n",
            "  FP = conf_matrix[idx, c].sum()\n",
            "/Users/atefe/Desktop/TestClass/Evaluation.py:49: UserWarning: indexing with dtype torch.uint8 is now deprecated, please use a dtype torch.bool instead. (Triggered internally at /Users/runner/work/pytorch/pytorch/pytorch/aten/src/ATen/native/IndexingUtils.h:28.)\n",
            "  FN = conf_matrix[c, idx].sum()\n"
          ]
        },
        {
          "name": "stdout",
          "output_type": "stream",
          "text": [
            "epoch:   6 | train accuracy:  0.3591 | valid accuracy:  0.3901\n",
            "epoch:   6 | train loss:  1.9975 | valid loss:  1.8264\n",
            "Validation loss decreased (1.970650 --> 1.826388).  Saving model ...\n",
            "-------Baseline result----------\n"
          ]
        },
        {
          "name": "stderr",
          "output_type": "stream",
          "text": [
            "/Users/atefe/Desktop/TestClass/Training.py:55: UserWarning: indexing with dtype torch.uint8 is now deprecated, please use a dtype torch.bool instead. (Triggered internally at /Users/runner/work/pytorch/pytorch/pytorch/aten/src/ATen/native/IndexingUtils.h:28.)\n",
            "  FP = conf_matrix[idx, c].sum()\n",
            "/Users/atefe/Desktop/TestClass/Training.py:57: UserWarning: indexing with dtype torch.uint8 is now deprecated, please use a dtype torch.bool instead. (Triggered internally at /Users/runner/work/pytorch/pytorch/pytorch/aten/src/ATen/native/IndexingUtils.h:28.)\n",
            "  FN = conf_matrix[c, idx].sum()\n",
            "/Users/atefe/Desktop/TestClass/Evaluation.py:47: UserWarning: indexing with dtype torch.uint8 is now deprecated, please use a dtype torch.bool instead. (Triggered internally at /Users/runner/work/pytorch/pytorch/pytorch/aten/src/ATen/native/IndexingUtils.h:28.)\n",
            "  FP = conf_matrix[idx, c].sum()\n",
            "/Users/atefe/Desktop/TestClass/Evaluation.py:49: UserWarning: indexing with dtype torch.uint8 is now deprecated, please use a dtype torch.bool instead. (Triggered internally at /Users/runner/work/pytorch/pytorch/pytorch/aten/src/ATen/native/IndexingUtils.h:28.)\n",
            "  FN = conf_matrix[c, idx].sum()\n"
          ]
        },
        {
          "name": "stdout",
          "output_type": "stream",
          "text": [
            "epoch:   7 | train accuracy:  0.3694 | valid accuracy:  0.3974\n",
            "epoch:   7 | train loss:  1.8636 | valid loss:  1.7228\n",
            "Validation loss decreased (1.826388 --> 1.722840).  Saving model ...\n",
            "-------Baseline result----------\n"
          ]
        },
        {
          "name": "stderr",
          "output_type": "stream",
          "text": [
            "/Users/atefe/Desktop/TestClass/Training.py:55: UserWarning: indexing with dtype torch.uint8 is now deprecated, please use a dtype torch.bool instead. (Triggered internally at /Users/runner/work/pytorch/pytorch/pytorch/aten/src/ATen/native/IndexingUtils.h:28.)\n",
            "  FP = conf_matrix[idx, c].sum()\n",
            "/Users/atefe/Desktop/TestClass/Training.py:57: UserWarning: indexing with dtype torch.uint8 is now deprecated, please use a dtype torch.bool instead. (Triggered internally at /Users/runner/work/pytorch/pytorch/pytorch/aten/src/ATen/native/IndexingUtils.h:28.)\n",
            "  FN = conf_matrix[c, idx].sum()\n",
            "/Users/atefe/Desktop/TestClass/Evaluation.py:47: UserWarning: indexing with dtype torch.uint8 is now deprecated, please use a dtype torch.bool instead. (Triggered internally at /Users/runner/work/pytorch/pytorch/pytorch/aten/src/ATen/native/IndexingUtils.h:28.)\n",
            "  FP = conf_matrix[idx, c].sum()\n",
            "/Users/atefe/Desktop/TestClass/Evaluation.py:49: UserWarning: indexing with dtype torch.uint8 is now deprecated, please use a dtype torch.bool instead. (Triggered internally at /Users/runner/work/pytorch/pytorch/pytorch/aten/src/ATen/native/IndexingUtils.h:28.)\n",
            "  FN = conf_matrix[c, idx].sum()\n"
          ]
        },
        {
          "name": "stdout",
          "output_type": "stream",
          "text": [
            "epoch:   8 | train accuracy:  0.3782 | valid accuracy:  0.4062\n",
            "epoch:   8 | train loss:  1.7753 | valid loss:  1.6500\n",
            "Validation loss decreased (1.722840 --> 1.650017).  Saving model ...\n",
            "-------Baseline result----------\n"
          ]
        },
        {
          "name": "stderr",
          "output_type": "stream",
          "text": [
            "/Users/atefe/Desktop/TestClass/Training.py:55: UserWarning: indexing with dtype torch.uint8 is now deprecated, please use a dtype torch.bool instead. (Triggered internally at /Users/runner/work/pytorch/pytorch/pytorch/aten/src/ATen/native/IndexingUtils.h:28.)\n",
            "  FP = conf_matrix[idx, c].sum()\n",
            "/Users/atefe/Desktop/TestClass/Training.py:57: UserWarning: indexing with dtype torch.uint8 is now deprecated, please use a dtype torch.bool instead. (Triggered internally at /Users/runner/work/pytorch/pytorch/pytorch/aten/src/ATen/native/IndexingUtils.h:28.)\n",
            "  FN = conf_matrix[c, idx].sum()\n",
            "/Users/atefe/Desktop/TestClass/Evaluation.py:47: UserWarning: indexing with dtype torch.uint8 is now deprecated, please use a dtype torch.bool instead. (Triggered internally at /Users/runner/work/pytorch/pytorch/pytorch/aten/src/ATen/native/IndexingUtils.h:28.)\n",
            "  FP = conf_matrix[idx, c].sum()\n",
            "/Users/atefe/Desktop/TestClass/Evaluation.py:49: UserWarning: indexing with dtype torch.uint8 is now deprecated, please use a dtype torch.bool instead. (Triggered internally at /Users/runner/work/pytorch/pytorch/pytorch/aten/src/ATen/native/IndexingUtils.h:28.)\n",
            "  FN = conf_matrix[c, idx].sum()\n"
          ]
        },
        {
          "name": "stdout",
          "output_type": "stream",
          "text": [
            "epoch:   9 | train accuracy:  0.3925 | valid accuracy:  0.4245\n",
            "epoch:   9 | train loss:  1.7092 | valid loss:  1.5873\n",
            "Validation loss decreased (1.650017 --> 1.587258).  Saving model ...\n",
            "-------Baseline result----------\n"
          ]
        },
        {
          "name": "stderr",
          "output_type": "stream",
          "text": [
            "/Users/atefe/Desktop/TestClass/Training.py:55: UserWarning: indexing with dtype torch.uint8 is now deprecated, please use a dtype torch.bool instead. (Triggered internally at /Users/runner/work/pytorch/pytorch/pytorch/aten/src/ATen/native/IndexingUtils.h:28.)\n",
            "  FP = conf_matrix[idx, c].sum()\n",
            "/Users/atefe/Desktop/TestClass/Training.py:57: UserWarning: indexing with dtype torch.uint8 is now deprecated, please use a dtype torch.bool instead. (Triggered internally at /Users/runner/work/pytorch/pytorch/pytorch/aten/src/ATen/native/IndexingUtils.h:28.)\n",
            "  FN = conf_matrix[c, idx].sum()\n",
            "/Users/atefe/Desktop/TestClass/Evaluation.py:47: UserWarning: indexing with dtype torch.uint8 is now deprecated, please use a dtype torch.bool instead. (Triggered internally at /Users/runner/work/pytorch/pytorch/pytorch/aten/src/ATen/native/IndexingUtils.h:28.)\n",
            "  FP = conf_matrix[idx, c].sum()\n",
            "/Users/atefe/Desktop/TestClass/Evaluation.py:49: UserWarning: indexing with dtype torch.uint8 is now deprecated, please use a dtype torch.bool instead. (Triggered internally at /Users/runner/work/pytorch/pytorch/pytorch/aten/src/ATen/native/IndexingUtils.h:28.)\n",
            "  FN = conf_matrix[c, idx].sum()\n"
          ]
        },
        {
          "name": "stdout",
          "output_type": "stream",
          "text": [
            "epoch:  10 | train accuracy:  0.4050 | valid accuracy:  0.4354\n",
            "epoch:  10 | train loss:  1.6544 | valid loss:  1.5353\n",
            "Validation loss decreased (1.587258 --> 1.535311).  Saving model ...\n",
            "-------Baseline result----------\n"
          ]
        },
        {
          "name": "stderr",
          "output_type": "stream",
          "text": [
            "/Users/atefe/Desktop/TestClass/Training.py:55: UserWarning: indexing with dtype torch.uint8 is now deprecated, please use a dtype torch.bool instead. (Triggered internally at /Users/runner/work/pytorch/pytorch/pytorch/aten/src/ATen/native/IndexingUtils.h:28.)\n",
            "  FP = conf_matrix[idx, c].sum()\n",
            "/Users/atefe/Desktop/TestClass/Training.py:57: UserWarning: indexing with dtype torch.uint8 is now deprecated, please use a dtype torch.bool instead. (Triggered internally at /Users/runner/work/pytorch/pytorch/pytorch/aten/src/ATen/native/IndexingUtils.h:28.)\n",
            "  FN = conf_matrix[c, idx].sum()\n",
            "/Users/atefe/Desktop/TestClass/Evaluation.py:47: UserWarning: indexing with dtype torch.uint8 is now deprecated, please use a dtype torch.bool instead. (Triggered internally at /Users/runner/work/pytorch/pytorch/pytorch/aten/src/ATen/native/IndexingUtils.h:28.)\n",
            "  FP = conf_matrix[idx, c].sum()\n",
            "/Users/atefe/Desktop/TestClass/Evaluation.py:49: UserWarning: indexing with dtype torch.uint8 is now deprecated, please use a dtype torch.bool instead. (Triggered internally at /Users/runner/work/pytorch/pytorch/pytorch/aten/src/ATen/native/IndexingUtils.h:28.)\n",
            "  FN = conf_matrix[c, idx].sum()\n"
          ]
        },
        {
          "name": "stdout",
          "output_type": "stream",
          "text": [
            "epoch:  11 | train accuracy:  0.4230 | valid accuracy:  0.4875\n",
            "epoch:  11 | train loss:  1.6127 | valid loss:  1.4973\n",
            "Validation loss decreased (1.535311 --> 1.497348).  Saving model ...\n",
            "-------Baseline result----------\n"
          ]
        },
        {
          "name": "stderr",
          "output_type": "stream",
          "text": [
            "/Users/atefe/Desktop/TestClass/Training.py:55: UserWarning: indexing with dtype torch.uint8 is now deprecated, please use a dtype torch.bool instead. (Triggered internally at /Users/runner/work/pytorch/pytorch/pytorch/aten/src/ATen/native/IndexingUtils.h:28.)\n",
            "  FP = conf_matrix[idx, c].sum()\n",
            "/Users/atefe/Desktop/TestClass/Training.py:57: UserWarning: indexing with dtype torch.uint8 is now deprecated, please use a dtype torch.bool instead. (Triggered internally at /Users/runner/work/pytorch/pytorch/pytorch/aten/src/ATen/native/IndexingUtils.h:28.)\n",
            "  FN = conf_matrix[c, idx].sum()\n",
            "/Users/atefe/Desktop/TestClass/Evaluation.py:47: UserWarning: indexing with dtype torch.uint8 is now deprecated, please use a dtype torch.bool instead. (Triggered internally at /Users/runner/work/pytorch/pytorch/pytorch/aten/src/ATen/native/IndexingUtils.h:28.)\n",
            "  FP = conf_matrix[idx, c].sum()\n",
            "/Users/atefe/Desktop/TestClass/Evaluation.py:49: UserWarning: indexing with dtype torch.uint8 is now deprecated, please use a dtype torch.bool instead. (Triggered internally at /Users/runner/work/pytorch/pytorch/pytorch/aten/src/ATen/native/IndexingUtils.h:28.)\n",
            "  FN = conf_matrix[c, idx].sum()\n"
          ]
        },
        {
          "name": "stdout",
          "output_type": "stream",
          "text": [
            "epoch:  12 | train accuracy:  0.4439 | valid accuracy:  0.4891\n",
            "epoch:  12 | train loss:  1.5749 | valid loss:  1.4456\n",
            "Validation loss decreased (1.497348 --> 1.445634).  Saving model ...\n",
            "-------Baseline result----------\n"
          ]
        },
        {
          "name": "stderr",
          "output_type": "stream",
          "text": [
            "/Users/atefe/Desktop/TestClass/Training.py:55: UserWarning: indexing with dtype torch.uint8 is now deprecated, please use a dtype torch.bool instead. (Triggered internally at /Users/runner/work/pytorch/pytorch/pytorch/aten/src/ATen/native/IndexingUtils.h:28.)\n",
            "  FP = conf_matrix[idx, c].sum()\n",
            "/Users/atefe/Desktop/TestClass/Training.py:57: UserWarning: indexing with dtype torch.uint8 is now deprecated, please use a dtype torch.bool instead. (Triggered internally at /Users/runner/work/pytorch/pytorch/pytorch/aten/src/ATen/native/IndexingUtils.h:28.)\n",
            "  FN = conf_matrix[c, idx].sum()\n",
            "/Users/atefe/Desktop/TestClass/Evaluation.py:47: UserWarning: indexing with dtype torch.uint8 is now deprecated, please use a dtype torch.bool instead. (Triggered internally at /Users/runner/work/pytorch/pytorch/pytorch/aten/src/ATen/native/IndexingUtils.h:28.)\n",
            "  FP = conf_matrix[idx, c].sum()\n",
            "/Users/atefe/Desktop/TestClass/Evaluation.py:49: UserWarning: indexing with dtype torch.uint8 is now deprecated, please use a dtype torch.bool instead. (Triggered internally at /Users/runner/work/pytorch/pytorch/pytorch/aten/src/ATen/native/IndexingUtils.h:28.)\n",
            "  FN = conf_matrix[c, idx].sum()\n"
          ]
        },
        {
          "name": "stdout",
          "output_type": "stream",
          "text": [
            "epoch:  13 | train accuracy:  0.4571 | valid accuracy:  0.5161\n",
            "epoch:  13 | train loss:  1.5331 | valid loss:  1.4030\n",
            "Validation loss decreased (1.445634 --> 1.403010).  Saving model ...\n",
            "-------Baseline result----------\n"
          ]
        },
        {
          "name": "stderr",
          "output_type": "stream",
          "text": [
            "/Users/atefe/Desktop/TestClass/Training.py:55: UserWarning: indexing with dtype torch.uint8 is now deprecated, please use a dtype torch.bool instead. (Triggered internally at /Users/runner/work/pytorch/pytorch/pytorch/aten/src/ATen/native/IndexingUtils.h:28.)\n",
            "  FP = conf_matrix[idx, c].sum()\n",
            "/Users/atefe/Desktop/TestClass/Training.py:57: UserWarning: indexing with dtype torch.uint8 is now deprecated, please use a dtype torch.bool instead. (Triggered internally at /Users/runner/work/pytorch/pytorch/pytorch/aten/src/ATen/native/IndexingUtils.h:28.)\n",
            "  FN = conf_matrix[c, idx].sum()\n",
            "/Users/atefe/Desktop/TestClass/Evaluation.py:47: UserWarning: indexing with dtype torch.uint8 is now deprecated, please use a dtype torch.bool instead. (Triggered internally at /Users/runner/work/pytorch/pytorch/pytorch/aten/src/ATen/native/IndexingUtils.h:28.)\n",
            "  FP = conf_matrix[idx, c].sum()\n",
            "/Users/atefe/Desktop/TestClass/Evaluation.py:49: UserWarning: indexing with dtype torch.uint8 is now deprecated, please use a dtype torch.bool instead. (Triggered internally at /Users/runner/work/pytorch/pytorch/pytorch/aten/src/ATen/native/IndexingUtils.h:28.)\n",
            "  FN = conf_matrix[c, idx].sum()\n"
          ]
        },
        {
          "name": "stdout",
          "output_type": "stream",
          "text": [
            "epoch:  14 | train accuracy:  0.4751 | valid accuracy:  0.5359\n",
            "epoch:  14 | train loss:  1.4992 | valid loss:  1.3577\n",
            "Validation loss decreased (1.403010 --> 1.357725).  Saving model ...\n",
            "-------Baseline result----------\n"
          ]
        },
        {
          "name": "stderr",
          "output_type": "stream",
          "text": [
            "/Users/atefe/Desktop/TestClass/Training.py:55: UserWarning: indexing with dtype torch.uint8 is now deprecated, please use a dtype torch.bool instead. (Triggered internally at /Users/runner/work/pytorch/pytorch/pytorch/aten/src/ATen/native/IndexingUtils.h:28.)\n",
            "  FP = conf_matrix[idx, c].sum()\n",
            "/Users/atefe/Desktop/TestClass/Training.py:57: UserWarning: indexing with dtype torch.uint8 is now deprecated, please use a dtype torch.bool instead. (Triggered internally at /Users/runner/work/pytorch/pytorch/pytorch/aten/src/ATen/native/IndexingUtils.h:28.)\n",
            "  FN = conf_matrix[c, idx].sum()\n",
            "/Users/atefe/Desktop/TestClass/Evaluation.py:47: UserWarning: indexing with dtype torch.uint8 is now deprecated, please use a dtype torch.bool instead. (Triggered internally at /Users/runner/work/pytorch/pytorch/pytorch/aten/src/ATen/native/IndexingUtils.h:28.)\n",
            "  FP = conf_matrix[idx, c].sum()\n",
            "/Users/atefe/Desktop/TestClass/Evaluation.py:49: UserWarning: indexing with dtype torch.uint8 is now deprecated, please use a dtype torch.bool instead. (Triggered internally at /Users/runner/work/pytorch/pytorch/pytorch/aten/src/ATen/native/IndexingUtils.h:28.)\n",
            "  FN = conf_matrix[c, idx].sum()\n"
          ]
        },
        {
          "name": "stdout",
          "output_type": "stream",
          "text": [
            "epoch:  15 | train accuracy:  0.4843 | valid accuracy:  0.5370\n",
            "epoch:  15 | train loss:  1.4701 | valid loss:  1.3254\n",
            "Validation loss decreased (1.357725 --> 1.325421).  Saving model ...\n",
            "-------Baseline result----------\n"
          ]
        },
        {
          "name": "stderr",
          "output_type": "stream",
          "text": [
            "/Users/atefe/Desktop/TestClass/Training.py:55: UserWarning: indexing with dtype torch.uint8 is now deprecated, please use a dtype torch.bool instead. (Triggered internally at /Users/runner/work/pytorch/pytorch/pytorch/aten/src/ATen/native/IndexingUtils.h:28.)\n",
            "  FP = conf_matrix[idx, c].sum()\n",
            "/Users/atefe/Desktop/TestClass/Training.py:57: UserWarning: indexing with dtype torch.uint8 is now deprecated, please use a dtype torch.bool instead. (Triggered internally at /Users/runner/work/pytorch/pytorch/pytorch/aten/src/ATen/native/IndexingUtils.h:28.)\n",
            "  FN = conf_matrix[c, idx].sum()\n",
            "/Users/atefe/Desktop/TestClass/Evaluation.py:47: UserWarning: indexing with dtype torch.uint8 is now deprecated, please use a dtype torch.bool instead. (Triggered internally at /Users/runner/work/pytorch/pytorch/pytorch/aten/src/ATen/native/IndexingUtils.h:28.)\n",
            "  FP = conf_matrix[idx, c].sum()\n",
            "/Users/atefe/Desktop/TestClass/Evaluation.py:49: UserWarning: indexing with dtype torch.uint8 is now deprecated, please use a dtype torch.bool instead. (Triggered internally at /Users/runner/work/pytorch/pytorch/pytorch/aten/src/ATen/native/IndexingUtils.h:28.)\n",
            "  FN = conf_matrix[c, idx].sum()\n"
          ]
        },
        {
          "name": "stdout",
          "output_type": "stream",
          "text": [
            "epoch:  16 | train accuracy:  0.4997 | valid accuracy:  0.5344\n",
            "epoch:  16 | train loss:  1.4309 | valid loss:  1.3329\n",
            "EarlyStopping counter: 1 out of 5\n",
            "-------Baseline result----------\n"
          ]
        },
        {
          "name": "stderr",
          "output_type": "stream",
          "text": [
            "/Users/atefe/Desktop/TestClass/Training.py:55: UserWarning: indexing with dtype torch.uint8 is now deprecated, please use a dtype torch.bool instead. (Triggered internally at /Users/runner/work/pytorch/pytorch/pytorch/aten/src/ATen/native/IndexingUtils.h:28.)\n",
            "  FP = conf_matrix[idx, c].sum()\n",
            "/Users/atefe/Desktop/TestClass/Training.py:57: UserWarning: indexing with dtype torch.uint8 is now deprecated, please use a dtype torch.bool instead. (Triggered internally at /Users/runner/work/pytorch/pytorch/pytorch/aten/src/ATen/native/IndexingUtils.h:28.)\n",
            "  FN = conf_matrix[c, idx].sum()\n",
            "/Users/atefe/Desktop/TestClass/Evaluation.py:47: UserWarning: indexing with dtype torch.uint8 is now deprecated, please use a dtype torch.bool instead. (Triggered internally at /Users/runner/work/pytorch/pytorch/pytorch/aten/src/ATen/native/IndexingUtils.h:28.)\n",
            "  FP = conf_matrix[idx, c].sum()\n",
            "/Users/atefe/Desktop/TestClass/Evaluation.py:49: UserWarning: indexing with dtype torch.uint8 is now deprecated, please use a dtype torch.bool instead. (Triggered internally at /Users/runner/work/pytorch/pytorch/pytorch/aten/src/ATen/native/IndexingUtils.h:28.)\n",
            "  FN = conf_matrix[c, idx].sum()\n"
          ]
        },
        {
          "name": "stdout",
          "output_type": "stream",
          "text": [
            "epoch:  17 | train accuracy:  0.5117 | valid accuracy:  0.5406\n",
            "epoch:  17 | train loss:  1.4057 | valid loss:  1.3079\n",
            "Validation loss decreased (1.325421 --> 1.307938).  Saving model ...\n",
            "-------Baseline result----------\n"
          ]
        },
        {
          "name": "stderr",
          "output_type": "stream",
          "text": [
            "/Users/atefe/Desktop/TestClass/Training.py:55: UserWarning: indexing with dtype torch.uint8 is now deprecated, please use a dtype torch.bool instead. (Triggered internally at /Users/runner/work/pytorch/pytorch/pytorch/aten/src/ATen/native/IndexingUtils.h:28.)\n",
            "  FP = conf_matrix[idx, c].sum()\n",
            "/Users/atefe/Desktop/TestClass/Training.py:57: UserWarning: indexing with dtype torch.uint8 is now deprecated, please use a dtype torch.bool instead. (Triggered internally at /Users/runner/work/pytorch/pytorch/pytorch/aten/src/ATen/native/IndexingUtils.h:28.)\n",
            "  FN = conf_matrix[c, idx].sum()\n",
            "/Users/atefe/Desktop/TestClass/Evaluation.py:47: UserWarning: indexing with dtype torch.uint8 is now deprecated, please use a dtype torch.bool instead. (Triggered internally at /Users/runner/work/pytorch/pytorch/pytorch/aten/src/ATen/native/IndexingUtils.h:28.)\n",
            "  FP = conf_matrix[idx, c].sum()\n",
            "/Users/atefe/Desktop/TestClass/Evaluation.py:49: UserWarning: indexing with dtype torch.uint8 is now deprecated, please use a dtype torch.bool instead. (Triggered internally at /Users/runner/work/pytorch/pytorch/pytorch/aten/src/ATen/native/IndexingUtils.h:28.)\n",
            "  FN = conf_matrix[c, idx].sum()\n"
          ]
        },
        {
          "name": "stdout",
          "output_type": "stream",
          "text": [
            "epoch:  18 | train accuracy:  0.5141 | valid accuracy:  0.5792\n",
            "epoch:  18 | train loss:  1.3828 | valid loss:  1.2333\n",
            "Validation loss decreased (1.307938 --> 1.233342).  Saving model ...\n",
            "-------Baseline result----------\n"
          ]
        },
        {
          "name": "stderr",
          "output_type": "stream",
          "text": [
            "/Users/atefe/Desktop/TestClass/Training.py:55: UserWarning: indexing with dtype torch.uint8 is now deprecated, please use a dtype torch.bool instead. (Triggered internally at /Users/runner/work/pytorch/pytorch/pytorch/aten/src/ATen/native/IndexingUtils.h:28.)\n",
            "  FP = conf_matrix[idx, c].sum()\n",
            "/Users/atefe/Desktop/TestClass/Training.py:57: UserWarning: indexing with dtype torch.uint8 is now deprecated, please use a dtype torch.bool instead. (Triggered internally at /Users/runner/work/pytorch/pytorch/pytorch/aten/src/ATen/native/IndexingUtils.h:28.)\n",
            "  FN = conf_matrix[c, idx].sum()\n",
            "/Users/atefe/Desktop/TestClass/Evaluation.py:47: UserWarning: indexing with dtype torch.uint8 is now deprecated, please use a dtype torch.bool instead. (Triggered internally at /Users/runner/work/pytorch/pytorch/pytorch/aten/src/ATen/native/IndexingUtils.h:28.)\n",
            "  FP = conf_matrix[idx, c].sum()\n",
            "/Users/atefe/Desktop/TestClass/Evaluation.py:49: UserWarning: indexing with dtype torch.uint8 is now deprecated, please use a dtype torch.bool instead. (Triggered internally at /Users/runner/work/pytorch/pytorch/pytorch/aten/src/ATen/native/IndexingUtils.h:28.)\n",
            "  FN = conf_matrix[c, idx].sum()\n"
          ]
        },
        {
          "name": "stdout",
          "output_type": "stream",
          "text": [
            "epoch:  19 | train accuracy:  0.5234 | valid accuracy:  0.5839\n",
            "epoch:  19 | train loss:  1.3561 | valid loss:  1.2033\n",
            "Validation loss decreased (1.233342 --> 1.203334).  Saving model ...\n",
            "-------Baseline result----------\n"
          ]
        },
        {
          "name": "stderr",
          "output_type": "stream",
          "text": [
            "/Users/atefe/Desktop/TestClass/Training.py:55: UserWarning: indexing with dtype torch.uint8 is now deprecated, please use a dtype torch.bool instead. (Triggered internally at /Users/runner/work/pytorch/pytorch/pytorch/aten/src/ATen/native/IndexingUtils.h:28.)\n",
            "  FP = conf_matrix[idx, c].sum()\n",
            "/Users/atefe/Desktop/TestClass/Training.py:57: UserWarning: indexing with dtype torch.uint8 is now deprecated, please use a dtype torch.bool instead. (Triggered internally at /Users/runner/work/pytorch/pytorch/pytorch/aten/src/ATen/native/IndexingUtils.h:28.)\n",
            "  FN = conf_matrix[c, idx].sum()\n",
            "/Users/atefe/Desktop/TestClass/Evaluation.py:47: UserWarning: indexing with dtype torch.uint8 is now deprecated, please use a dtype torch.bool instead. (Triggered internally at /Users/runner/work/pytorch/pytorch/pytorch/aten/src/ATen/native/IndexingUtils.h:28.)\n",
            "  FP = conf_matrix[idx, c].sum()\n",
            "/Users/atefe/Desktop/TestClass/Evaluation.py:49: UserWarning: indexing with dtype torch.uint8 is now deprecated, please use a dtype torch.bool instead. (Triggered internally at /Users/runner/work/pytorch/pytorch/pytorch/aten/src/ATen/native/IndexingUtils.h:28.)\n",
            "  FN = conf_matrix[c, idx].sum()\n"
          ]
        },
        {
          "name": "stdout",
          "output_type": "stream",
          "text": [
            "epoch:  20 | train accuracy:  0.5295 | valid accuracy:  0.5859\n",
            "epoch:  20 | train loss:  1.3320 | valid loss:  1.1919\n",
            "Validation loss decreased (1.203334 --> 1.191863).  Saving model ...\n",
            "-------Baseline result----------\n"
          ]
        },
        {
          "name": "stderr",
          "output_type": "stream",
          "text": [
            "/Users/atefe/Desktop/TestClass/Training.py:55: UserWarning: indexing with dtype torch.uint8 is now deprecated, please use a dtype torch.bool instead. (Triggered internally at /Users/runner/work/pytorch/pytorch/pytorch/aten/src/ATen/native/IndexingUtils.h:28.)\n",
            "  FP = conf_matrix[idx, c].sum()\n",
            "/Users/atefe/Desktop/TestClass/Training.py:57: UserWarning: indexing with dtype torch.uint8 is now deprecated, please use a dtype torch.bool instead. (Triggered internally at /Users/runner/work/pytorch/pytorch/pytorch/aten/src/ATen/native/IndexingUtils.h:28.)\n",
            "  FN = conf_matrix[c, idx].sum()\n",
            "/Users/atefe/Desktop/TestClass/Evaluation.py:47: UserWarning: indexing with dtype torch.uint8 is now deprecated, please use a dtype torch.bool instead. (Triggered internally at /Users/runner/work/pytorch/pytorch/pytorch/aten/src/ATen/native/IndexingUtils.h:28.)\n",
            "  FP = conf_matrix[idx, c].sum()\n",
            "/Users/atefe/Desktop/TestClass/Evaluation.py:49: UserWarning: indexing with dtype torch.uint8 is now deprecated, please use a dtype torch.bool instead. (Triggered internally at /Users/runner/work/pytorch/pytorch/pytorch/aten/src/ATen/native/IndexingUtils.h:28.)\n",
            "  FN = conf_matrix[c, idx].sum()\n"
          ]
        },
        {
          "name": "stdout",
          "output_type": "stream",
          "text": [
            "epoch:  21 | train accuracy:  0.5393 | valid accuracy:  0.5875\n",
            "epoch:  21 | train loss:  1.3097 | valid loss:  1.1854\n",
            "Validation loss decreased (1.191863 --> 1.185402).  Saving model ...\n",
            "-------Baseline result----------\n"
          ]
        },
        {
          "name": "stderr",
          "output_type": "stream",
          "text": [
            "/Users/atefe/Desktop/TestClass/Training.py:55: UserWarning: indexing with dtype torch.uint8 is now deprecated, please use a dtype torch.bool instead. (Triggered internally at /Users/runner/work/pytorch/pytorch/pytorch/aten/src/ATen/native/IndexingUtils.h:28.)\n",
            "  FP = conf_matrix[idx, c].sum()\n",
            "/Users/atefe/Desktop/TestClass/Training.py:57: UserWarning: indexing with dtype torch.uint8 is now deprecated, please use a dtype torch.bool instead. (Triggered internally at /Users/runner/work/pytorch/pytorch/pytorch/aten/src/ATen/native/IndexingUtils.h:28.)\n",
            "  FN = conf_matrix[c, idx].sum()\n",
            "/Users/atefe/Desktop/TestClass/Evaluation.py:47: UserWarning: indexing with dtype torch.uint8 is now deprecated, please use a dtype torch.bool instead. (Triggered internally at /Users/runner/work/pytorch/pytorch/pytorch/aten/src/ATen/native/IndexingUtils.h:28.)\n",
            "  FP = conf_matrix[idx, c].sum()\n",
            "/Users/atefe/Desktop/TestClass/Evaluation.py:49: UserWarning: indexing with dtype torch.uint8 is now deprecated, please use a dtype torch.bool instead. (Triggered internally at /Users/runner/work/pytorch/pytorch/pytorch/aten/src/ATen/native/IndexingUtils.h:28.)\n",
            "  FN = conf_matrix[c, idx].sum()\n"
          ]
        },
        {
          "name": "stdout",
          "output_type": "stream",
          "text": [
            "epoch:  22 | train accuracy:  0.5453 | valid accuracy:  0.5839\n",
            "epoch:  22 | train loss:  1.2998 | valid loss:  1.2026\n",
            "EarlyStopping counter: 1 out of 5\n",
            "-------Baseline result----------\n"
          ]
        },
        {
          "name": "stderr",
          "output_type": "stream",
          "text": [
            "/Users/atefe/Desktop/TestClass/Training.py:55: UserWarning: indexing with dtype torch.uint8 is now deprecated, please use a dtype torch.bool instead. (Triggered internally at /Users/runner/work/pytorch/pytorch/pytorch/aten/src/ATen/native/IndexingUtils.h:28.)\n",
            "  FP = conf_matrix[idx, c].sum()\n",
            "/Users/atefe/Desktop/TestClass/Training.py:57: UserWarning: indexing with dtype torch.uint8 is now deprecated, please use a dtype torch.bool instead. (Triggered internally at /Users/runner/work/pytorch/pytorch/pytorch/aten/src/ATen/native/IndexingUtils.h:28.)\n",
            "  FN = conf_matrix[c, idx].sum()\n",
            "/Users/atefe/Desktop/TestClass/Evaluation.py:47: UserWarning: indexing with dtype torch.uint8 is now deprecated, please use a dtype torch.bool instead. (Triggered internally at /Users/runner/work/pytorch/pytorch/pytorch/aten/src/ATen/native/IndexingUtils.h:28.)\n",
            "  FP = conf_matrix[idx, c].sum()\n",
            "/Users/atefe/Desktop/TestClass/Evaluation.py:49: UserWarning: indexing with dtype torch.uint8 is now deprecated, please use a dtype torch.bool instead. (Triggered internally at /Users/runner/work/pytorch/pytorch/pytorch/aten/src/ATen/native/IndexingUtils.h:28.)\n",
            "  FN = conf_matrix[c, idx].sum()\n"
          ]
        },
        {
          "name": "stdout",
          "output_type": "stream",
          "text": [
            "epoch:  23 | train accuracy:  0.5451 | valid accuracy:  0.6016\n",
            "epoch:  23 | train loss:  1.2830 | valid loss:  1.1621\n",
            "Validation loss decreased (1.185402 --> 1.162132).  Saving model ...\n",
            "-------Baseline result----------\n"
          ]
        },
        {
          "name": "stderr",
          "output_type": "stream",
          "text": [
            "/Users/atefe/Desktop/TestClass/Training.py:55: UserWarning: indexing with dtype torch.uint8 is now deprecated, please use a dtype torch.bool instead. (Triggered internally at /Users/runner/work/pytorch/pytorch/pytorch/aten/src/ATen/native/IndexingUtils.h:28.)\n",
            "  FP = conf_matrix[idx, c].sum()\n",
            "/Users/atefe/Desktop/TestClass/Training.py:57: UserWarning: indexing with dtype torch.uint8 is now deprecated, please use a dtype torch.bool instead. (Triggered internally at /Users/runner/work/pytorch/pytorch/pytorch/aten/src/ATen/native/IndexingUtils.h:28.)\n",
            "  FN = conf_matrix[c, idx].sum()\n",
            "/Users/atefe/Desktop/TestClass/Evaluation.py:47: UserWarning: indexing with dtype torch.uint8 is now deprecated, please use a dtype torch.bool instead. (Triggered internally at /Users/runner/work/pytorch/pytorch/pytorch/aten/src/ATen/native/IndexingUtils.h:28.)\n",
            "  FP = conf_matrix[idx, c].sum()\n",
            "/Users/atefe/Desktop/TestClass/Evaluation.py:49: UserWarning: indexing with dtype torch.uint8 is now deprecated, please use a dtype torch.bool instead. (Triggered internally at /Users/runner/work/pytorch/pytorch/pytorch/aten/src/ATen/native/IndexingUtils.h:28.)\n",
            "  FN = conf_matrix[c, idx].sum()\n"
          ]
        },
        {
          "name": "stdout",
          "output_type": "stream",
          "text": [
            "epoch:  24 | train accuracy:  0.5530 | valid accuracy:  0.6083\n",
            "epoch:  24 | train loss:  1.2657 | valid loss:  1.1244\n",
            "Validation loss decreased (1.162132 --> 1.124438).  Saving model ...\n",
            "-------Baseline result----------\n"
          ]
        },
        {
          "name": "stderr",
          "output_type": "stream",
          "text": [
            "/Users/atefe/Desktop/TestClass/Training.py:55: UserWarning: indexing with dtype torch.uint8 is now deprecated, please use a dtype torch.bool instead. (Triggered internally at /Users/runner/work/pytorch/pytorch/pytorch/aten/src/ATen/native/IndexingUtils.h:28.)\n",
            "  FP = conf_matrix[idx, c].sum()\n",
            "/Users/atefe/Desktop/TestClass/Training.py:57: UserWarning: indexing with dtype torch.uint8 is now deprecated, please use a dtype torch.bool instead. (Triggered internally at /Users/runner/work/pytorch/pytorch/pytorch/aten/src/ATen/native/IndexingUtils.h:28.)\n",
            "  FN = conf_matrix[c, idx].sum()\n",
            "/Users/atefe/Desktop/TestClass/Evaluation.py:47: UserWarning: indexing with dtype torch.uint8 is now deprecated, please use a dtype torch.bool instead. (Triggered internally at /Users/runner/work/pytorch/pytorch/pytorch/aten/src/ATen/native/IndexingUtils.h:28.)\n",
            "  FP = conf_matrix[idx, c].sum()\n",
            "/Users/atefe/Desktop/TestClass/Evaluation.py:49: UserWarning: indexing with dtype torch.uint8 is now deprecated, please use a dtype torch.bool instead. (Triggered internally at /Users/runner/work/pytorch/pytorch/pytorch/aten/src/ATen/native/IndexingUtils.h:28.)\n",
            "  FN = conf_matrix[c, idx].sum()\n"
          ]
        },
        {
          "name": "stdout",
          "output_type": "stream",
          "text": [
            "epoch:  25 | train accuracy:  0.5642 | valid accuracy:  0.6208\n",
            "epoch:  25 | train loss:  1.2449 | valid loss:  1.0982\n",
            "Validation loss decreased (1.124438 --> 1.098217).  Saving model ...\n",
            "-------Baseline result----------\n"
          ]
        },
        {
          "name": "stderr",
          "output_type": "stream",
          "text": [
            "/Users/atefe/Desktop/TestClass/Training.py:55: UserWarning: indexing with dtype torch.uint8 is now deprecated, please use a dtype torch.bool instead. (Triggered internally at /Users/runner/work/pytorch/pytorch/pytorch/aten/src/ATen/native/IndexingUtils.h:28.)\n",
            "  FP = conf_matrix[idx, c].sum()\n",
            "/Users/atefe/Desktop/TestClass/Training.py:57: UserWarning: indexing with dtype torch.uint8 is now deprecated, please use a dtype torch.bool instead. (Triggered internally at /Users/runner/work/pytorch/pytorch/pytorch/aten/src/ATen/native/IndexingUtils.h:28.)\n",
            "  FN = conf_matrix[c, idx].sum()\n",
            "/Users/atefe/Desktop/TestClass/Evaluation.py:47: UserWarning: indexing with dtype torch.uint8 is now deprecated, please use a dtype torch.bool instead. (Triggered internally at /Users/runner/work/pytorch/pytorch/pytorch/aten/src/ATen/native/IndexingUtils.h:28.)\n",
            "  FP = conf_matrix[idx, c].sum()\n",
            "/Users/atefe/Desktop/TestClass/Evaluation.py:49: UserWarning: indexing with dtype torch.uint8 is now deprecated, please use a dtype torch.bool instead. (Triggered internally at /Users/runner/work/pytorch/pytorch/pytorch/aten/src/ATen/native/IndexingUtils.h:28.)\n",
            "  FN = conf_matrix[c, idx].sum()\n"
          ]
        },
        {
          "name": "stdout",
          "output_type": "stream",
          "text": [
            "epoch:  26 | train accuracy:  0.5633 | valid accuracy:  0.6031\n",
            "epoch:  26 | train loss:  1.2356 | valid loss:  1.1087\n",
            "EarlyStopping counter: 1 out of 5\n",
            "-------Baseline result----------\n"
          ]
        },
        {
          "name": "stderr",
          "output_type": "stream",
          "text": [
            "/Users/atefe/Desktop/TestClass/Training.py:55: UserWarning: indexing with dtype torch.uint8 is now deprecated, please use a dtype torch.bool instead. (Triggered internally at /Users/runner/work/pytorch/pytorch/pytorch/aten/src/ATen/native/IndexingUtils.h:28.)\n",
            "  FP = conf_matrix[idx, c].sum()\n",
            "/Users/atefe/Desktop/TestClass/Training.py:57: UserWarning: indexing with dtype torch.uint8 is now deprecated, please use a dtype torch.bool instead. (Triggered internally at /Users/runner/work/pytorch/pytorch/pytorch/aten/src/ATen/native/IndexingUtils.h:28.)\n",
            "  FN = conf_matrix[c, idx].sum()\n",
            "/Users/atefe/Desktop/TestClass/Evaluation.py:47: UserWarning: indexing with dtype torch.uint8 is now deprecated, please use a dtype torch.bool instead. (Triggered internally at /Users/runner/work/pytorch/pytorch/pytorch/aten/src/ATen/native/IndexingUtils.h:28.)\n",
            "  FP = conf_matrix[idx, c].sum()\n",
            "/Users/atefe/Desktop/TestClass/Evaluation.py:49: UserWarning: indexing with dtype torch.uint8 is now deprecated, please use a dtype torch.bool instead. (Triggered internally at /Users/runner/work/pytorch/pytorch/pytorch/aten/src/ATen/native/IndexingUtils.h:28.)\n",
            "  FN = conf_matrix[c, idx].sum()\n"
          ]
        },
        {
          "name": "stdout",
          "output_type": "stream",
          "text": [
            "epoch:  27 | train accuracy:  0.5668 | valid accuracy:  0.6260\n",
            "epoch:  27 | train loss:  1.2189 | valid loss:  1.0827\n",
            "Validation loss decreased (1.098217 --> 1.082703).  Saving model ...\n",
            "-------Baseline result----------\n"
          ]
        },
        {
          "name": "stderr",
          "output_type": "stream",
          "text": [
            "/Users/atefe/Desktop/TestClass/Training.py:55: UserWarning: indexing with dtype torch.uint8 is now deprecated, please use a dtype torch.bool instead. (Triggered internally at /Users/runner/work/pytorch/pytorch/pytorch/aten/src/ATen/native/IndexingUtils.h:28.)\n",
            "  FP = conf_matrix[idx, c].sum()\n",
            "/Users/atefe/Desktop/TestClass/Training.py:57: UserWarning: indexing with dtype torch.uint8 is now deprecated, please use a dtype torch.bool instead. (Triggered internally at /Users/runner/work/pytorch/pytorch/pytorch/aten/src/ATen/native/IndexingUtils.h:28.)\n",
            "  FN = conf_matrix[c, idx].sum()\n",
            "/Users/atefe/Desktop/TestClass/Evaluation.py:47: UserWarning: indexing with dtype torch.uint8 is now deprecated, please use a dtype torch.bool instead. (Triggered internally at /Users/runner/work/pytorch/pytorch/pytorch/aten/src/ATen/native/IndexingUtils.h:28.)\n",
            "  FP = conf_matrix[idx, c].sum()\n",
            "/Users/atefe/Desktop/TestClass/Evaluation.py:49: UserWarning: indexing with dtype torch.uint8 is now deprecated, please use a dtype torch.bool instead. (Triggered internally at /Users/runner/work/pytorch/pytorch/pytorch/aten/src/ATen/native/IndexingUtils.h:28.)\n",
            "  FN = conf_matrix[c, idx].sum()\n"
          ]
        },
        {
          "name": "stdout",
          "output_type": "stream",
          "text": [
            "epoch:  28 | train accuracy:  0.5715 | valid accuracy:  0.6255\n",
            "epoch:  28 | train loss:  1.2055 | valid loss:  1.0701\n",
            "Validation loss decreased (1.082703 --> 1.070055).  Saving model ...\n",
            "-------Baseline result----------\n"
          ]
        },
        {
          "name": "stderr",
          "output_type": "stream",
          "text": [
            "/Users/atefe/Desktop/TestClass/Training.py:55: UserWarning: indexing with dtype torch.uint8 is now deprecated, please use a dtype torch.bool instead. (Triggered internally at /Users/runner/work/pytorch/pytorch/pytorch/aten/src/ATen/native/IndexingUtils.h:28.)\n",
            "  FP = conf_matrix[idx, c].sum()\n",
            "/Users/atefe/Desktop/TestClass/Training.py:57: UserWarning: indexing with dtype torch.uint8 is now deprecated, please use a dtype torch.bool instead. (Triggered internally at /Users/runner/work/pytorch/pytorch/pytorch/aten/src/ATen/native/IndexingUtils.h:28.)\n",
            "  FN = conf_matrix[c, idx].sum()\n",
            "/Users/atefe/Desktop/TestClass/Evaluation.py:47: UserWarning: indexing with dtype torch.uint8 is now deprecated, please use a dtype torch.bool instead. (Triggered internally at /Users/runner/work/pytorch/pytorch/pytorch/aten/src/ATen/native/IndexingUtils.h:28.)\n",
            "  FP = conf_matrix[idx, c].sum()\n",
            "/Users/atefe/Desktop/TestClass/Evaluation.py:49: UserWarning: indexing with dtype torch.uint8 is now deprecated, please use a dtype torch.bool instead. (Triggered internally at /Users/runner/work/pytorch/pytorch/pytorch/aten/src/ATen/native/IndexingUtils.h:28.)\n",
            "  FN = conf_matrix[c, idx].sum()\n"
          ]
        },
        {
          "name": "stdout",
          "output_type": "stream",
          "text": [
            "epoch:  29 | train accuracy:  0.5745 | valid accuracy:  0.6167\n",
            "epoch:  29 | train loss:  1.1945 | valid loss:  1.0590\n",
            "Validation loss decreased (1.070055 --> 1.058960).  Saving model ...\n",
            "-------Baseline result----------\n"
          ]
        },
        {
          "name": "stderr",
          "output_type": "stream",
          "text": [
            "/Users/atefe/Desktop/TestClass/Training.py:55: UserWarning: indexing with dtype torch.uint8 is now deprecated, please use a dtype torch.bool instead. (Triggered internally at /Users/runner/work/pytorch/pytorch/pytorch/aten/src/ATen/native/IndexingUtils.h:28.)\n",
            "  FP = conf_matrix[idx, c].sum()\n",
            "/Users/atefe/Desktop/TestClass/Training.py:57: UserWarning: indexing with dtype torch.uint8 is now deprecated, please use a dtype torch.bool instead. (Triggered internally at /Users/runner/work/pytorch/pytorch/pytorch/aten/src/ATen/native/IndexingUtils.h:28.)\n",
            "  FN = conf_matrix[c, idx].sum()\n",
            "/Users/atefe/Desktop/TestClass/Evaluation.py:47: UserWarning: indexing with dtype torch.uint8 is now deprecated, please use a dtype torch.bool instead. (Triggered internally at /Users/runner/work/pytorch/pytorch/pytorch/aten/src/ATen/native/IndexingUtils.h:28.)\n",
            "  FP = conf_matrix[idx, c].sum()\n",
            "/Users/atefe/Desktop/TestClass/Evaluation.py:49: UserWarning: indexing with dtype torch.uint8 is now deprecated, please use a dtype torch.bool instead. (Triggered internally at /Users/runner/work/pytorch/pytorch/pytorch/aten/src/ATen/native/IndexingUtils.h:28.)\n",
            "  FN = conf_matrix[c, idx].sum()\n"
          ]
        },
        {
          "name": "stdout",
          "output_type": "stream",
          "text": [
            "epoch:  30 | train accuracy:  0.5880 | valid accuracy:  0.6354\n",
            "epoch:  30 | train loss:  1.1696 | valid loss:  1.0461\n",
            "Validation loss decreased (1.058960 --> 1.046078).  Saving model ...\n",
            "-------Baseline result----------\n"
          ]
        },
        {
          "name": "stderr",
          "output_type": "stream",
          "text": [
            "/Users/atefe/Desktop/TestClass/Training.py:55: UserWarning: indexing with dtype torch.uint8 is now deprecated, please use a dtype torch.bool instead. (Triggered internally at /Users/runner/work/pytorch/pytorch/pytorch/aten/src/ATen/native/IndexingUtils.h:28.)\n",
            "  FP = conf_matrix[idx, c].sum()\n",
            "/Users/atefe/Desktop/TestClass/Training.py:57: UserWarning: indexing with dtype torch.uint8 is now deprecated, please use a dtype torch.bool instead. (Triggered internally at /Users/runner/work/pytorch/pytorch/pytorch/aten/src/ATen/native/IndexingUtils.h:28.)\n",
            "  FN = conf_matrix[c, idx].sum()\n",
            "/Users/atefe/Desktop/TestClass/Evaluation.py:47: UserWarning: indexing with dtype torch.uint8 is now deprecated, please use a dtype torch.bool instead. (Triggered internally at /Users/runner/work/pytorch/pytorch/pytorch/aten/src/ATen/native/IndexingUtils.h:28.)\n",
            "  FP = conf_matrix[idx, c].sum()\n",
            "/Users/atefe/Desktop/TestClass/Evaluation.py:49: UserWarning: indexing with dtype torch.uint8 is now deprecated, please use a dtype torch.bool instead. (Triggered internally at /Users/runner/work/pytorch/pytorch/pytorch/aten/src/ATen/native/IndexingUtils.h:28.)\n",
            "  FN = conf_matrix[c, idx].sum()\n"
          ]
        },
        {
          "name": "stdout",
          "output_type": "stream",
          "text": [
            "epoch:  31 | train accuracy:  0.5881 | valid accuracy:  0.6328\n",
            "epoch:  31 | train loss:  1.1678 | valid loss:  1.0336\n",
            "Validation loss decreased (1.046078 --> 1.033629).  Saving model ...\n",
            "-------Baseline result----------\n"
          ]
        },
        {
          "name": "stderr",
          "output_type": "stream",
          "text": [
            "/Users/atefe/Desktop/TestClass/Training.py:55: UserWarning: indexing with dtype torch.uint8 is now deprecated, please use a dtype torch.bool instead. (Triggered internally at /Users/runner/work/pytorch/pytorch/pytorch/aten/src/ATen/native/IndexingUtils.h:28.)\n",
            "  FP = conf_matrix[idx, c].sum()\n",
            "/Users/atefe/Desktop/TestClass/Training.py:57: UserWarning: indexing with dtype torch.uint8 is now deprecated, please use a dtype torch.bool instead. (Triggered internally at /Users/runner/work/pytorch/pytorch/pytorch/aten/src/ATen/native/IndexingUtils.h:28.)\n",
            "  FN = conf_matrix[c, idx].sum()\n",
            "/Users/atefe/Desktop/TestClass/Evaluation.py:47: UserWarning: indexing with dtype torch.uint8 is now deprecated, please use a dtype torch.bool instead. (Triggered internally at /Users/runner/work/pytorch/pytorch/pytorch/aten/src/ATen/native/IndexingUtils.h:28.)\n",
            "  FP = conf_matrix[idx, c].sum()\n",
            "/Users/atefe/Desktop/TestClass/Evaluation.py:49: UserWarning: indexing with dtype torch.uint8 is now deprecated, please use a dtype torch.bool instead. (Triggered internally at /Users/runner/work/pytorch/pytorch/pytorch/aten/src/ATen/native/IndexingUtils.h:28.)\n",
            "  FN = conf_matrix[c, idx].sum()\n"
          ]
        },
        {
          "name": "stdout",
          "output_type": "stream",
          "text": [
            "epoch:  32 | train accuracy:  0.5918 | valid accuracy:  0.6068\n",
            "epoch:  32 | train loss:  1.1568 | valid loss:  1.1060\n",
            "EarlyStopping counter: 1 out of 5\n",
            "-------Baseline result----------\n"
          ]
        },
        {
          "name": "stderr",
          "output_type": "stream",
          "text": [
            "/Users/atefe/Desktop/TestClass/Training.py:55: UserWarning: indexing with dtype torch.uint8 is now deprecated, please use a dtype torch.bool instead. (Triggered internally at /Users/runner/work/pytorch/pytorch/pytorch/aten/src/ATen/native/IndexingUtils.h:28.)\n",
            "  FP = conf_matrix[idx, c].sum()\n",
            "/Users/atefe/Desktop/TestClass/Training.py:57: UserWarning: indexing with dtype torch.uint8 is now deprecated, please use a dtype torch.bool instead. (Triggered internally at /Users/runner/work/pytorch/pytorch/pytorch/aten/src/ATen/native/IndexingUtils.h:28.)\n",
            "  FN = conf_matrix[c, idx].sum()\n",
            "/Users/atefe/Desktop/TestClass/Evaluation.py:47: UserWarning: indexing with dtype torch.uint8 is now deprecated, please use a dtype torch.bool instead. (Triggered internally at /Users/runner/work/pytorch/pytorch/pytorch/aten/src/ATen/native/IndexingUtils.h:28.)\n",
            "  FP = conf_matrix[idx, c].sum()\n",
            "/Users/atefe/Desktop/TestClass/Evaluation.py:49: UserWarning: indexing with dtype torch.uint8 is now deprecated, please use a dtype torch.bool instead. (Triggered internally at /Users/runner/work/pytorch/pytorch/pytorch/aten/src/ATen/native/IndexingUtils.h:28.)\n",
            "  FN = conf_matrix[c, idx].sum()\n"
          ]
        },
        {
          "name": "stdout",
          "output_type": "stream",
          "text": [
            "epoch:  33 | train accuracy:  0.6006 | valid accuracy:  0.6292\n",
            "epoch:  33 | train loss:  1.1376 | valid loss:  1.0542\n",
            "EarlyStopping counter: 2 out of 5\n",
            "-------Baseline result----------\n"
          ]
        },
        {
          "name": "stderr",
          "output_type": "stream",
          "text": [
            "/Users/atefe/Desktop/TestClass/Training.py:55: UserWarning: indexing with dtype torch.uint8 is now deprecated, please use a dtype torch.bool instead. (Triggered internally at /Users/runner/work/pytorch/pytorch/pytorch/aten/src/ATen/native/IndexingUtils.h:28.)\n",
            "  FP = conf_matrix[idx, c].sum()\n",
            "/Users/atefe/Desktop/TestClass/Training.py:57: UserWarning: indexing with dtype torch.uint8 is now deprecated, please use a dtype torch.bool instead. (Triggered internally at /Users/runner/work/pytorch/pytorch/pytorch/aten/src/ATen/native/IndexingUtils.h:28.)\n",
            "  FN = conf_matrix[c, idx].sum()\n",
            "/Users/atefe/Desktop/TestClass/Evaluation.py:47: UserWarning: indexing with dtype torch.uint8 is now deprecated, please use a dtype torch.bool instead. (Triggered internally at /Users/runner/work/pytorch/pytorch/pytorch/aten/src/ATen/native/IndexingUtils.h:28.)\n",
            "  FP = conf_matrix[idx, c].sum()\n",
            "/Users/atefe/Desktop/TestClass/Evaluation.py:49: UserWarning: indexing with dtype torch.uint8 is now deprecated, please use a dtype torch.bool instead. (Triggered internally at /Users/runner/work/pytorch/pytorch/pytorch/aten/src/ATen/native/IndexingUtils.h:28.)\n",
            "  FN = conf_matrix[c, idx].sum()\n"
          ]
        },
        {
          "name": "stdout",
          "output_type": "stream",
          "text": [
            "epoch:  34 | train accuracy:  0.5995 | valid accuracy:  0.6448\n",
            "epoch:  34 | train loss:  1.1350 | valid loss:  1.0058\n",
            "Validation loss decreased (1.033629 --> 1.005801).  Saving model ...\n",
            "-------Baseline result----------\n"
          ]
        },
        {
          "name": "stderr",
          "output_type": "stream",
          "text": [
            "/Users/atefe/Desktop/TestClass/Training.py:55: UserWarning: indexing with dtype torch.uint8 is now deprecated, please use a dtype torch.bool instead. (Triggered internally at /Users/runner/work/pytorch/pytorch/pytorch/aten/src/ATen/native/IndexingUtils.h:28.)\n",
            "  FP = conf_matrix[idx, c].sum()\n",
            "/Users/atefe/Desktop/TestClass/Training.py:57: UserWarning: indexing with dtype torch.uint8 is now deprecated, please use a dtype torch.bool instead. (Triggered internally at /Users/runner/work/pytorch/pytorch/pytorch/aten/src/ATen/native/IndexingUtils.h:28.)\n",
            "  FN = conf_matrix[c, idx].sum()\n",
            "/Users/atefe/Desktop/TestClass/Evaluation.py:47: UserWarning: indexing with dtype torch.uint8 is now deprecated, please use a dtype torch.bool instead. (Triggered internally at /Users/runner/work/pytorch/pytorch/pytorch/aten/src/ATen/native/IndexingUtils.h:28.)\n",
            "  FP = conf_matrix[idx, c].sum()\n",
            "/Users/atefe/Desktop/TestClass/Evaluation.py:49: UserWarning: indexing with dtype torch.uint8 is now deprecated, please use a dtype torch.bool instead. (Triggered internally at /Users/runner/work/pytorch/pytorch/pytorch/aten/src/ATen/native/IndexingUtils.h:28.)\n",
            "  FN = conf_matrix[c, idx].sum()\n"
          ]
        },
        {
          "name": "stdout",
          "output_type": "stream",
          "text": [
            "epoch:  35 | train accuracy:  0.6065 | valid accuracy:  0.6505\n",
            "epoch:  35 | train loss:  1.1174 | valid loss:  0.9982\n",
            "Validation loss decreased (1.005801 --> 0.998164).  Saving model ...\n",
            "-------Baseline result----------\n"
          ]
        },
        {
          "name": "stderr",
          "output_type": "stream",
          "text": [
            "/Users/atefe/Desktop/TestClass/Training.py:55: UserWarning: indexing with dtype torch.uint8 is now deprecated, please use a dtype torch.bool instead. (Triggered internally at /Users/runner/work/pytorch/pytorch/pytorch/aten/src/ATen/native/IndexingUtils.h:28.)\n",
            "  FP = conf_matrix[idx, c].sum()\n",
            "/Users/atefe/Desktop/TestClass/Training.py:57: UserWarning: indexing with dtype torch.uint8 is now deprecated, please use a dtype torch.bool instead. (Triggered internally at /Users/runner/work/pytorch/pytorch/pytorch/aten/src/ATen/native/IndexingUtils.h:28.)\n",
            "  FN = conf_matrix[c, idx].sum()\n",
            "/Users/atefe/Desktop/TestClass/Evaluation.py:47: UserWarning: indexing with dtype torch.uint8 is now deprecated, please use a dtype torch.bool instead. (Triggered internally at /Users/runner/work/pytorch/pytorch/pytorch/aten/src/ATen/native/IndexingUtils.h:28.)\n",
            "  FP = conf_matrix[idx, c].sum()\n",
            "/Users/atefe/Desktop/TestClass/Evaluation.py:49: UserWarning: indexing with dtype torch.uint8 is now deprecated, please use a dtype torch.bool instead. (Triggered internally at /Users/runner/work/pytorch/pytorch/pytorch/aten/src/ATen/native/IndexingUtils.h:28.)\n",
            "  FN = conf_matrix[c, idx].sum()\n"
          ]
        },
        {
          "name": "stdout",
          "output_type": "stream",
          "text": [
            "epoch:  36 | train accuracy:  0.6096 | valid accuracy:  0.6417\n",
            "epoch:  36 | train loss:  1.1095 | valid loss:  1.0053\n",
            "EarlyStopping counter: 1 out of 5\n",
            "-------Baseline result----------\n"
          ]
        },
        {
          "name": "stderr",
          "output_type": "stream",
          "text": [
            "/Users/atefe/Desktop/TestClass/Training.py:55: UserWarning: indexing with dtype torch.uint8 is now deprecated, please use a dtype torch.bool instead. (Triggered internally at /Users/runner/work/pytorch/pytorch/pytorch/aten/src/ATen/native/IndexingUtils.h:28.)\n",
            "  FP = conf_matrix[idx, c].sum()\n",
            "/Users/atefe/Desktop/TestClass/Training.py:57: UserWarning: indexing with dtype torch.uint8 is now deprecated, please use a dtype torch.bool instead. (Triggered internally at /Users/runner/work/pytorch/pytorch/pytorch/aten/src/ATen/native/IndexingUtils.h:28.)\n",
            "  FN = conf_matrix[c, idx].sum()\n",
            "/Users/atefe/Desktop/TestClass/Evaluation.py:47: UserWarning: indexing with dtype torch.uint8 is now deprecated, please use a dtype torch.bool instead. (Triggered internally at /Users/runner/work/pytorch/pytorch/pytorch/aten/src/ATen/native/IndexingUtils.h:28.)\n",
            "  FP = conf_matrix[idx, c].sum()\n",
            "/Users/atefe/Desktop/TestClass/Evaluation.py:49: UserWarning: indexing with dtype torch.uint8 is now deprecated, please use a dtype torch.bool instead. (Triggered internally at /Users/runner/work/pytorch/pytorch/pytorch/aten/src/ATen/native/IndexingUtils.h:28.)\n",
            "  FN = conf_matrix[c, idx].sum()\n"
          ]
        },
        {
          "name": "stdout",
          "output_type": "stream",
          "text": [
            "epoch:  37 | train accuracy:  0.6084 | valid accuracy:  0.6141\n",
            "epoch:  37 | train loss:  1.1020 | valid loss:  1.0984\n",
            "EarlyStopping counter: 2 out of 5\n",
            "-------Baseline result----------\n"
          ]
        },
        {
          "name": "stderr",
          "output_type": "stream",
          "text": [
            "/Users/atefe/Desktop/TestClass/Training.py:55: UserWarning: indexing with dtype torch.uint8 is now deprecated, please use a dtype torch.bool instead. (Triggered internally at /Users/runner/work/pytorch/pytorch/pytorch/aten/src/ATen/native/IndexingUtils.h:28.)\n",
            "  FP = conf_matrix[idx, c].sum()\n",
            "/Users/atefe/Desktop/TestClass/Training.py:57: UserWarning: indexing with dtype torch.uint8 is now deprecated, please use a dtype torch.bool instead. (Triggered internally at /Users/runner/work/pytorch/pytorch/pytorch/aten/src/ATen/native/IndexingUtils.h:28.)\n",
            "  FN = conf_matrix[c, idx].sum()\n",
            "/Users/atefe/Desktop/TestClass/Evaluation.py:47: UserWarning: indexing with dtype torch.uint8 is now deprecated, please use a dtype torch.bool instead. (Triggered internally at /Users/runner/work/pytorch/pytorch/pytorch/aten/src/ATen/native/IndexingUtils.h:28.)\n",
            "  FP = conf_matrix[idx, c].sum()\n",
            "/Users/atefe/Desktop/TestClass/Evaluation.py:49: UserWarning: indexing with dtype torch.uint8 is now deprecated, please use a dtype torch.bool instead. (Triggered internally at /Users/runner/work/pytorch/pytorch/pytorch/aten/src/ATen/native/IndexingUtils.h:28.)\n",
            "  FN = conf_matrix[c, idx].sum()\n"
          ]
        },
        {
          "name": "stdout",
          "output_type": "stream",
          "text": [
            "epoch:  38 | train accuracy:  0.6130 | valid accuracy:  0.6219\n",
            "epoch:  38 | train loss:  1.0946 | valid loss:  1.0608\n",
            "EarlyStopping counter: 3 out of 5\n",
            "-------Baseline result----------\n"
          ]
        },
        {
          "name": "stderr",
          "output_type": "stream",
          "text": [
            "/Users/atefe/Desktop/TestClass/Training.py:55: UserWarning: indexing with dtype torch.uint8 is now deprecated, please use a dtype torch.bool instead. (Triggered internally at /Users/runner/work/pytorch/pytorch/pytorch/aten/src/ATen/native/IndexingUtils.h:28.)\n",
            "  FP = conf_matrix[idx, c].sum()\n",
            "/Users/atefe/Desktop/TestClass/Training.py:57: UserWarning: indexing with dtype torch.uint8 is now deprecated, please use a dtype torch.bool instead. (Triggered internally at /Users/runner/work/pytorch/pytorch/pytorch/aten/src/ATen/native/IndexingUtils.h:28.)\n",
            "  FN = conf_matrix[c, idx].sum()\n",
            "/Users/atefe/Desktop/TestClass/Evaluation.py:47: UserWarning: indexing with dtype torch.uint8 is now deprecated, please use a dtype torch.bool instead. (Triggered internally at /Users/runner/work/pytorch/pytorch/pytorch/aten/src/ATen/native/IndexingUtils.h:28.)\n",
            "  FP = conf_matrix[idx, c].sum()\n",
            "/Users/atefe/Desktop/TestClass/Evaluation.py:49: UserWarning: indexing with dtype torch.uint8 is now deprecated, please use a dtype torch.bool instead. (Triggered internally at /Users/runner/work/pytorch/pytorch/pytorch/aten/src/ATen/native/IndexingUtils.h:28.)\n",
            "  FN = conf_matrix[c, idx].sum()\n"
          ]
        },
        {
          "name": "stdout",
          "output_type": "stream",
          "text": [
            "epoch:  39 | train accuracy:  0.6188 | valid accuracy:  0.6552\n",
            "epoch:  39 | train loss:  1.0764 | valid loss:  0.9589\n",
            "Validation loss decreased (0.998164 --> 0.958910).  Saving model ...\n",
            "-------Baseline result----------\n"
          ]
        },
        {
          "name": "stderr",
          "output_type": "stream",
          "text": [
            "/Users/atefe/Desktop/TestClass/Training.py:55: UserWarning: indexing with dtype torch.uint8 is now deprecated, please use a dtype torch.bool instead. (Triggered internally at /Users/runner/work/pytorch/pytorch/pytorch/aten/src/ATen/native/IndexingUtils.h:28.)\n",
            "  FP = conf_matrix[idx, c].sum()\n",
            "/Users/atefe/Desktop/TestClass/Training.py:57: UserWarning: indexing with dtype torch.uint8 is now deprecated, please use a dtype torch.bool instead. (Triggered internally at /Users/runner/work/pytorch/pytorch/pytorch/aten/src/ATen/native/IndexingUtils.h:28.)\n",
            "  FN = conf_matrix[c, idx].sum()\n",
            "/Users/atefe/Desktop/TestClass/Evaluation.py:47: UserWarning: indexing with dtype torch.uint8 is now deprecated, please use a dtype torch.bool instead. (Triggered internally at /Users/runner/work/pytorch/pytorch/pytorch/aten/src/ATen/native/IndexingUtils.h:28.)\n",
            "  FP = conf_matrix[idx, c].sum()\n",
            "/Users/atefe/Desktop/TestClass/Evaluation.py:49: UserWarning: indexing with dtype torch.uint8 is now deprecated, please use a dtype torch.bool instead. (Triggered internally at /Users/runner/work/pytorch/pytorch/pytorch/aten/src/ATen/native/IndexingUtils.h:28.)\n",
            "  FN = conf_matrix[c, idx].sum()\n"
          ]
        },
        {
          "name": "stdout",
          "output_type": "stream",
          "text": [
            "epoch:  40 | train accuracy:  0.6224 | valid accuracy:  0.6292\n",
            "epoch:  40 | train loss:  1.0649 | valid loss:  1.0585\n",
            "EarlyStopping counter: 1 out of 5\n",
            "-------Baseline result----------\n"
          ]
        },
        {
          "name": "stderr",
          "output_type": "stream",
          "text": [
            "/Users/atefe/Desktop/TestClass/Training.py:55: UserWarning: indexing with dtype torch.uint8 is now deprecated, please use a dtype torch.bool instead. (Triggered internally at /Users/runner/work/pytorch/pytorch/pytorch/aten/src/ATen/native/IndexingUtils.h:28.)\n",
            "  FP = conf_matrix[idx, c].sum()\n",
            "/Users/atefe/Desktop/TestClass/Training.py:57: UserWarning: indexing with dtype torch.uint8 is now deprecated, please use a dtype torch.bool instead. (Triggered internally at /Users/runner/work/pytorch/pytorch/pytorch/aten/src/ATen/native/IndexingUtils.h:28.)\n",
            "  FN = conf_matrix[c, idx].sum()\n",
            "/Users/atefe/Desktop/TestClass/Evaluation.py:47: UserWarning: indexing with dtype torch.uint8 is now deprecated, please use a dtype torch.bool instead. (Triggered internally at /Users/runner/work/pytorch/pytorch/pytorch/aten/src/ATen/native/IndexingUtils.h:28.)\n",
            "  FP = conf_matrix[idx, c].sum()\n",
            "/Users/atefe/Desktop/TestClass/Evaluation.py:49: UserWarning: indexing with dtype torch.uint8 is now deprecated, please use a dtype torch.bool instead. (Triggered internally at /Users/runner/work/pytorch/pytorch/pytorch/aten/src/ATen/native/IndexingUtils.h:28.)\n",
            "  FN = conf_matrix[c, idx].sum()\n"
          ]
        },
        {
          "name": "stdout",
          "output_type": "stream",
          "text": [
            "epoch:  41 | train accuracy:  0.6295 | valid accuracy:  0.6693\n",
            "epoch:  41 | train loss:  1.0581 | valid loss:  0.9367\n",
            "Validation loss decreased (0.958910 --> 0.936700).  Saving model ...\n",
            "-------Baseline result----------\n"
          ]
        },
        {
          "name": "stderr",
          "output_type": "stream",
          "text": [
            "/Users/atefe/Desktop/TestClass/Training.py:55: UserWarning: indexing with dtype torch.uint8 is now deprecated, please use a dtype torch.bool instead. (Triggered internally at /Users/runner/work/pytorch/pytorch/pytorch/aten/src/ATen/native/IndexingUtils.h:28.)\n",
            "  FP = conf_matrix[idx, c].sum()\n",
            "/Users/atefe/Desktop/TestClass/Training.py:57: UserWarning: indexing with dtype torch.uint8 is now deprecated, please use a dtype torch.bool instead. (Triggered internally at /Users/runner/work/pytorch/pytorch/pytorch/aten/src/ATen/native/IndexingUtils.h:28.)\n",
            "  FN = conf_matrix[c, idx].sum()\n",
            "/Users/atefe/Desktop/TestClass/Evaluation.py:47: UserWarning: indexing with dtype torch.uint8 is now deprecated, please use a dtype torch.bool instead. (Triggered internally at /Users/runner/work/pytorch/pytorch/pytorch/aten/src/ATen/native/IndexingUtils.h:28.)\n",
            "  FP = conf_matrix[idx, c].sum()\n",
            "/Users/atefe/Desktop/TestClass/Evaluation.py:49: UserWarning: indexing with dtype torch.uint8 is now deprecated, please use a dtype torch.bool instead. (Triggered internally at /Users/runner/work/pytorch/pytorch/pytorch/aten/src/ATen/native/IndexingUtils.h:28.)\n",
            "  FN = conf_matrix[c, idx].sum()\n"
          ]
        },
        {
          "name": "stdout",
          "output_type": "stream",
          "text": [
            "epoch:  42 | train accuracy:  0.6336 | valid accuracy:  0.6516\n",
            "epoch:  42 | train loss:  1.0468 | valid loss:  0.9801\n",
            "EarlyStopping counter: 1 out of 5\n",
            "-------Baseline result----------\n"
          ]
        },
        {
          "name": "stderr",
          "output_type": "stream",
          "text": [
            "/Users/atefe/Desktop/TestClass/Training.py:55: UserWarning: indexing with dtype torch.uint8 is now deprecated, please use a dtype torch.bool instead. (Triggered internally at /Users/runner/work/pytorch/pytorch/pytorch/aten/src/ATen/native/IndexingUtils.h:28.)\n",
            "  FP = conf_matrix[idx, c].sum()\n",
            "/Users/atefe/Desktop/TestClass/Training.py:57: UserWarning: indexing with dtype torch.uint8 is now deprecated, please use a dtype torch.bool instead. (Triggered internally at /Users/runner/work/pytorch/pytorch/pytorch/aten/src/ATen/native/IndexingUtils.h:28.)\n",
            "  FN = conf_matrix[c, idx].sum()\n",
            "/Users/atefe/Desktop/TestClass/Evaluation.py:47: UserWarning: indexing with dtype torch.uint8 is now deprecated, please use a dtype torch.bool instead. (Triggered internally at /Users/runner/work/pytorch/pytorch/pytorch/aten/src/ATen/native/IndexingUtils.h:28.)\n",
            "  FP = conf_matrix[idx, c].sum()\n",
            "/Users/atefe/Desktop/TestClass/Evaluation.py:49: UserWarning: indexing with dtype torch.uint8 is now deprecated, please use a dtype torch.bool instead. (Triggered internally at /Users/runner/work/pytorch/pytorch/pytorch/aten/src/ATen/native/IndexingUtils.h:28.)\n",
            "  FN = conf_matrix[c, idx].sum()\n"
          ]
        },
        {
          "name": "stdout",
          "output_type": "stream",
          "text": [
            "epoch:  43 | train accuracy:  0.6295 | valid accuracy:  0.6474\n",
            "epoch:  43 | train loss:  1.0504 | valid loss:  0.9589\n",
            "EarlyStopping counter: 2 out of 5\n",
            "-------Baseline result----------\n"
          ]
        },
        {
          "name": "stderr",
          "output_type": "stream",
          "text": [
            "/Users/atefe/Desktop/TestClass/Training.py:55: UserWarning: indexing with dtype torch.uint8 is now deprecated, please use a dtype torch.bool instead. (Triggered internally at /Users/runner/work/pytorch/pytorch/pytorch/aten/src/ATen/native/IndexingUtils.h:28.)\n",
            "  FP = conf_matrix[idx, c].sum()\n",
            "/Users/atefe/Desktop/TestClass/Training.py:57: UserWarning: indexing with dtype torch.uint8 is now deprecated, please use a dtype torch.bool instead. (Triggered internally at /Users/runner/work/pytorch/pytorch/pytorch/aten/src/ATen/native/IndexingUtils.h:28.)\n",
            "  FN = conf_matrix[c, idx].sum()\n",
            "/Users/atefe/Desktop/TestClass/Evaluation.py:47: UserWarning: indexing with dtype torch.uint8 is now deprecated, please use a dtype torch.bool instead. (Triggered internally at /Users/runner/work/pytorch/pytorch/pytorch/aten/src/ATen/native/IndexingUtils.h:28.)\n",
            "  FP = conf_matrix[idx, c].sum()\n",
            "/Users/atefe/Desktop/TestClass/Evaluation.py:49: UserWarning: indexing with dtype torch.uint8 is now deprecated, please use a dtype torch.bool instead. (Triggered internally at /Users/runner/work/pytorch/pytorch/pytorch/aten/src/ATen/native/IndexingUtils.h:28.)\n",
            "  FN = conf_matrix[c, idx].sum()\n"
          ]
        },
        {
          "name": "stdout",
          "output_type": "stream",
          "text": [
            "epoch:  44 | train accuracy:  0.6329 | valid accuracy:  0.6729\n",
            "epoch:  44 | train loss:  1.0412 | valid loss:  0.9234\n",
            "Validation loss decreased (0.936700 --> 0.923392).  Saving model ...\n",
            "-------Baseline result----------\n"
          ]
        },
        {
          "name": "stderr",
          "output_type": "stream",
          "text": [
            "/Users/atefe/Desktop/TestClass/Training.py:55: UserWarning: indexing with dtype torch.uint8 is now deprecated, please use a dtype torch.bool instead. (Triggered internally at /Users/runner/work/pytorch/pytorch/pytorch/aten/src/ATen/native/IndexingUtils.h:28.)\n",
            "  FP = conf_matrix[idx, c].sum()\n",
            "/Users/atefe/Desktop/TestClass/Training.py:57: UserWarning: indexing with dtype torch.uint8 is now deprecated, please use a dtype torch.bool instead. (Triggered internally at /Users/runner/work/pytorch/pytorch/pytorch/aten/src/ATen/native/IndexingUtils.h:28.)\n",
            "  FN = conf_matrix[c, idx].sum()\n",
            "/Users/atefe/Desktop/TestClass/Evaluation.py:47: UserWarning: indexing with dtype torch.uint8 is now deprecated, please use a dtype torch.bool instead. (Triggered internally at /Users/runner/work/pytorch/pytorch/pytorch/aten/src/ATen/native/IndexingUtils.h:28.)\n",
            "  FP = conf_matrix[idx, c].sum()\n",
            "/Users/atefe/Desktop/TestClass/Evaluation.py:49: UserWarning: indexing with dtype torch.uint8 is now deprecated, please use a dtype torch.bool instead. (Triggered internally at /Users/runner/work/pytorch/pytorch/pytorch/aten/src/ATen/native/IndexingUtils.h:28.)\n",
            "  FN = conf_matrix[c, idx].sum()\n"
          ]
        },
        {
          "name": "stdout",
          "output_type": "stream",
          "text": [
            "epoch:  45 | train accuracy:  0.6354 | valid accuracy:  0.6589\n",
            "epoch:  45 | train loss:  1.0259 | valid loss:  0.9410\n",
            "EarlyStopping counter: 1 out of 5\n",
            "-------Baseline result----------\n"
          ]
        },
        {
          "name": "stderr",
          "output_type": "stream",
          "text": [
            "/Users/atefe/Desktop/TestClass/Training.py:55: UserWarning: indexing with dtype torch.uint8 is now deprecated, please use a dtype torch.bool instead. (Triggered internally at /Users/runner/work/pytorch/pytorch/pytorch/aten/src/ATen/native/IndexingUtils.h:28.)\n",
            "  FP = conf_matrix[idx, c].sum()\n",
            "/Users/atefe/Desktop/TestClass/Training.py:57: UserWarning: indexing with dtype torch.uint8 is now deprecated, please use a dtype torch.bool instead. (Triggered internally at /Users/runner/work/pytorch/pytorch/pytorch/aten/src/ATen/native/IndexingUtils.h:28.)\n",
            "  FN = conf_matrix[c, idx].sum()\n",
            "/Users/atefe/Desktop/TestClass/Evaluation.py:47: UserWarning: indexing with dtype torch.uint8 is now deprecated, please use a dtype torch.bool instead. (Triggered internally at /Users/runner/work/pytorch/pytorch/pytorch/aten/src/ATen/native/IndexingUtils.h:28.)\n",
            "  FP = conf_matrix[idx, c].sum()\n",
            "/Users/atefe/Desktop/TestClass/Evaluation.py:49: UserWarning: indexing with dtype torch.uint8 is now deprecated, please use a dtype torch.bool instead. (Triggered internally at /Users/runner/work/pytorch/pytorch/pytorch/aten/src/ATen/native/IndexingUtils.h:28.)\n",
            "  FN = conf_matrix[c, idx].sum()\n"
          ]
        },
        {
          "name": "stdout",
          "output_type": "stream",
          "text": [
            "epoch:  46 | train accuracy:  0.6392 | valid accuracy:  0.6729\n",
            "epoch:  46 | train loss:  1.0157 | valid loss:  0.8953\n",
            "Validation loss decreased (0.923392 --> 0.895349).  Saving model ...\n",
            "-------Baseline result----------\n"
          ]
        },
        {
          "name": "stderr",
          "output_type": "stream",
          "text": [
            "/Users/atefe/Desktop/TestClass/Training.py:55: UserWarning: indexing with dtype torch.uint8 is now deprecated, please use a dtype torch.bool instead. (Triggered internally at /Users/runner/work/pytorch/pytorch/pytorch/aten/src/ATen/native/IndexingUtils.h:28.)\n",
            "  FP = conf_matrix[idx, c].sum()\n",
            "/Users/atefe/Desktop/TestClass/Training.py:57: UserWarning: indexing with dtype torch.uint8 is now deprecated, please use a dtype torch.bool instead. (Triggered internally at /Users/runner/work/pytorch/pytorch/pytorch/aten/src/ATen/native/IndexingUtils.h:28.)\n",
            "  FN = conf_matrix[c, idx].sum()\n",
            "/Users/atefe/Desktop/TestClass/Evaluation.py:47: UserWarning: indexing with dtype torch.uint8 is now deprecated, please use a dtype torch.bool instead. (Triggered internally at /Users/runner/work/pytorch/pytorch/pytorch/aten/src/ATen/native/IndexingUtils.h:28.)\n",
            "  FP = conf_matrix[idx, c].sum()\n",
            "/Users/atefe/Desktop/TestClass/Evaluation.py:49: UserWarning: indexing with dtype torch.uint8 is now deprecated, please use a dtype torch.bool instead. (Triggered internally at /Users/runner/work/pytorch/pytorch/pytorch/aten/src/ATen/native/IndexingUtils.h:28.)\n",
            "  FN = conf_matrix[c, idx].sum()\n"
          ]
        },
        {
          "name": "stdout",
          "output_type": "stream",
          "text": [
            "epoch:  47 | train accuracy:  0.6420 | valid accuracy:  0.6734\n",
            "epoch:  47 | train loss:  1.0096 | valid loss:  0.9127\n",
            "EarlyStopping counter: 1 out of 5\n",
            "-------Baseline result----------\n"
          ]
        },
        {
          "name": "stderr",
          "output_type": "stream",
          "text": [
            "/Users/atefe/Desktop/TestClass/Training.py:55: UserWarning: indexing with dtype torch.uint8 is now deprecated, please use a dtype torch.bool instead. (Triggered internally at /Users/runner/work/pytorch/pytorch/pytorch/aten/src/ATen/native/IndexingUtils.h:28.)\n",
            "  FP = conf_matrix[idx, c].sum()\n",
            "/Users/atefe/Desktop/TestClass/Training.py:57: UserWarning: indexing with dtype torch.uint8 is now deprecated, please use a dtype torch.bool instead. (Triggered internally at /Users/runner/work/pytorch/pytorch/pytorch/aten/src/ATen/native/IndexingUtils.h:28.)\n",
            "  FN = conf_matrix[c, idx].sum()\n",
            "/Users/atefe/Desktop/TestClass/Evaluation.py:47: UserWarning: indexing with dtype torch.uint8 is now deprecated, please use a dtype torch.bool instead. (Triggered internally at /Users/runner/work/pytorch/pytorch/pytorch/aten/src/ATen/native/IndexingUtils.h:28.)\n",
            "  FP = conf_matrix[idx, c].sum()\n",
            "/Users/atefe/Desktop/TestClass/Evaluation.py:49: UserWarning: indexing with dtype torch.uint8 is now deprecated, please use a dtype torch.bool instead. (Triggered internally at /Users/runner/work/pytorch/pytorch/pytorch/aten/src/ATen/native/IndexingUtils.h:28.)\n",
            "  FN = conf_matrix[c, idx].sum()\n"
          ]
        },
        {
          "name": "stdout",
          "output_type": "stream",
          "text": [
            "epoch:  48 | train accuracy:  0.6427 | valid accuracy:  0.6672\n",
            "epoch:  48 | train loss:  1.0059 | valid loss:  0.9021\n",
            "EarlyStopping counter: 2 out of 5\n",
            "-------Baseline result----------\n"
          ]
        },
        {
          "name": "stderr",
          "output_type": "stream",
          "text": [
            "/Users/atefe/Desktop/TestClass/Training.py:55: UserWarning: indexing with dtype torch.uint8 is now deprecated, please use a dtype torch.bool instead. (Triggered internally at /Users/runner/work/pytorch/pytorch/pytorch/aten/src/ATen/native/IndexingUtils.h:28.)\n",
            "  FP = conf_matrix[idx, c].sum()\n",
            "/Users/atefe/Desktop/TestClass/Training.py:57: UserWarning: indexing with dtype torch.uint8 is now deprecated, please use a dtype torch.bool instead. (Triggered internally at /Users/runner/work/pytorch/pytorch/pytorch/aten/src/ATen/native/IndexingUtils.h:28.)\n",
            "  FN = conf_matrix[c, idx].sum()\n",
            "/Users/atefe/Desktop/TestClass/Evaluation.py:47: UserWarning: indexing with dtype torch.uint8 is now deprecated, please use a dtype torch.bool instead. (Triggered internally at /Users/runner/work/pytorch/pytorch/pytorch/aten/src/ATen/native/IndexingUtils.h:28.)\n",
            "  FP = conf_matrix[idx, c].sum()\n",
            "/Users/atefe/Desktop/TestClass/Evaluation.py:49: UserWarning: indexing with dtype torch.uint8 is now deprecated, please use a dtype torch.bool instead. (Triggered internally at /Users/runner/work/pytorch/pytorch/pytorch/aten/src/ATen/native/IndexingUtils.h:28.)\n",
            "  FN = conf_matrix[c, idx].sum()\n"
          ]
        },
        {
          "name": "stdout",
          "output_type": "stream",
          "text": [
            "epoch:  49 | train accuracy:  0.6470 | valid accuracy:  0.6703\n",
            "epoch:  49 | train loss:  0.9952 | valid loss:  0.9263\n",
            "EarlyStopping counter: 3 out of 5\n",
            "-------Baseline result----------\n"
          ]
        },
        {
          "name": "stderr",
          "output_type": "stream",
          "text": [
            "/Users/atefe/Desktop/TestClass/Training.py:55: UserWarning: indexing with dtype torch.uint8 is now deprecated, please use a dtype torch.bool instead. (Triggered internally at /Users/runner/work/pytorch/pytorch/pytorch/aten/src/ATen/native/IndexingUtils.h:28.)\n",
            "  FP = conf_matrix[idx, c].sum()\n",
            "/Users/atefe/Desktop/TestClass/Training.py:57: UserWarning: indexing with dtype torch.uint8 is now deprecated, please use a dtype torch.bool instead. (Triggered internally at /Users/runner/work/pytorch/pytorch/pytorch/aten/src/ATen/native/IndexingUtils.h:28.)\n",
            "  FN = conf_matrix[c, idx].sum()\n",
            "/Users/atefe/Desktop/TestClass/Evaluation.py:47: UserWarning: indexing with dtype torch.uint8 is now deprecated, please use a dtype torch.bool instead. (Triggered internally at /Users/runner/work/pytorch/pytorch/pytorch/aten/src/ATen/native/IndexingUtils.h:28.)\n",
            "  FP = conf_matrix[idx, c].sum()\n",
            "/Users/atefe/Desktop/TestClass/Evaluation.py:49: UserWarning: indexing with dtype torch.uint8 is now deprecated, please use a dtype torch.bool instead. (Triggered internally at /Users/runner/work/pytorch/pytorch/pytorch/aten/src/ATen/native/IndexingUtils.h:28.)\n",
            "  FN = conf_matrix[c, idx].sum()\n"
          ]
        },
        {
          "name": "stdout",
          "output_type": "stream",
          "text": [
            "epoch:  50 | train accuracy:  0.6464 | valid accuracy:  0.6760\n",
            "epoch:  50 | train loss:  0.9917 | valid loss:  0.9129\n",
            "EarlyStopping counter: 4 out of 5\n",
            "final test accuracy:  0.6679\n",
            "elapsed_server_training_time:  1101.3369817733765\n"
          ]
        },
        {
          "name": "stderr",
          "output_type": "stream",
          "text": [
            "/Users/atefe/Desktop/TestClass/Evaluation.py:47: UserWarning: indexing with dtype torch.uint8 is now deprecated, please use a dtype torch.bool instead. (Triggered internally at /Users/runner/work/pytorch/pytorch/pytorch/aten/src/ATen/native/IndexingUtils.h:28.)\n",
            "  FP = conf_matrix[idx, c].sum()\n",
            "/Users/atefe/Desktop/TestClass/Evaluation.py:49: UserWarning: indexing with dtype torch.uint8 is now deprecated, please use a dtype torch.bool instead. (Triggered internally at /Users/runner/work/pytorch/pytorch/pytorch/aten/src/ATen/native/IndexingUtils.h:28.)\n",
            "  FN = conf_matrix[c, idx].sum()\n"
          ]
        }
      ],
      "source": [
        "print(f\"Model is {MODEL}\")\n",
        "\n",
        "start_server_training_time = time.time()\n",
        "\n",
        "# train server on mixed data.\n",
        "main_model = get_model(model_name = MODEL)\n",
        "main_optimizer = torch.optim.SGD(main_model.parameters(), lr=learning_rate, momentum=0.9)\n",
        "main_criterion = nn.CrossEntropyLoss()\n",
        "\n",
        "# early stopping patience; how long to wait after last time validation loss improved.\n",
        "patience = 5\n",
        "# initialize the early_stopping object\n",
        "early_stopping = EarlyStopping(patience=patience, verbose=True)\n",
        "\n",
        "trainer = Train(n_classes)\n",
        "validator = Evaluator(n_classes)\n",
        "\n",
        "for iter in range(NUM_ITERATION):\n",
        "  print(\"-------Baseline result----------\")\n",
        "  # model training\n",
        "  central_train_loss, central_train_accuracy, central_train_accuracy_skl, central_train_sens, central_train_spec, central_train_f1 = trainer.train(main_model, train_dl_server, main_criterion, main_optimizer)\n",
        "  # model validaiton\n",
        "  central_valid_loss, central_valid_accuracy, central_valid_accuracy_skl, central_valid_sens, central_valid_spec, central_valid_f1 = validator.validation(main_model, valid_dl_server, main_criterion)\n",
        "  \n",
        "  print(\"epoch: {:3.0f}\".format(iter+1) + \" | train accuracy: {:7.4f}\".format(central_train_accuracy) +  \" | valid accuracy: {:7.4f}\".format(central_valid_accuracy))\n",
        "  print(\"epoch: {:3.0f}\".format(iter+1) + \" | train loss: {:7.4f}\".format(central_train_loss) + \" | valid loss: {:7.4f}\".format(central_valid_loss))\n",
        "\n",
        "  # early_stopping needs the validation loss to check if it has decresed, \n",
        "  # and if it has, it will make a checkpoint of the current model\n",
        "  early_stopping(central_valid_loss, main_model)\n",
        "        \n",
        "  if early_stopping.early_stop:\n",
        "    print(\"Early stopping\")\n",
        "    break\n",
        "\n",
        "  \n",
        "  # (\"iteration\\ttrain_accuracy\\ttrain_loss\\tvalid_accuracy\\t valid_accuracy_skl\\tvalid_loss\\tvalid_sensitivity\\tvalid_specificity\\tvalid_f1\\n\")\n",
        "  baseline_metrics_train.write(f\"{iter}\\t{central_train_accuracy}\\t{central_train_loss}\\t{central_train_accuracy_skl}\\t{central_train_sens}\\t{central_train_spec}\\t{central_train_f1}\\n\")\n",
        "  baseline_metrics_validation.write(f\"{iter}\\t{central_valid_accuracy}\\t{central_valid_accuracy_skl}\\t{central_valid_loss}\\t{central_valid_sens}\\t{central_valid_spec}\\t{central_valid_f1}\\n\")\n",
        "\n",
        "# Testing final model\n",
        "central_test_loss, central_test_accuracy, central_test_accuracy_skl, central_test_sens, central_test_spec, central_test_f1 = validator.validation(main_model, test_dl_server, main_criterion)\n",
        "\n",
        "print(\"final test accuracy: {:7.4f}\".format(central_test_accuracy))\n",
        "\n",
        "end_server_training_time = time.time()\n",
        "elapsed_server_training_time = end_server_training_time - start_server_training_time\n",
        "print(\"elapsed_server_training_time: \", elapsed_server_training_time)\n",
        "\n",
        "baseline_metrics_train.close()\n",
        "baseline_metrics_validation.close()"
      ]
    },
    {
      "cell_type": "code",
      "execution_count": null,
      "metadata": {},
      "outputs": [],
      "source": []
    },
    {
      "cell_type": "code",
      "execution_count": null,
      "metadata": {},
      "outputs": [],
      "source": []
    }
  ],
  "metadata": {
    "accelerator": "GPU",
    "colab": {
      "gpuType": "T4",
      "provenance": []
    },
    "kernelspec": {
      "display_name": "Python 3",
      "name": "python3"
    },
    "language_info": {
      "codemirror_mode": {
        "name": "ipython",
        "version": 3
      },
      "file_extension": ".py",
      "mimetype": "text/x-python",
      "name": "python",
      "nbconvert_exporter": "python",
      "pygments_lexer": "ipython3",
      "version": "3.11.2"
    }
  },
  "nbformat": 4,
  "nbformat_minor": 0
}
